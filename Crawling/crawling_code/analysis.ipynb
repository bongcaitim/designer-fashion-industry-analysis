{
 "cells": [
  {
   "cell_type": "code",
   "execution_count": 1,
   "metadata": {},
   "outputs": [
    {
     "name": "stdout",
     "output_type": "stream",
     "text": [
      "Merged data saved to: E:\\COLLEGE\\PROJECT\\designer-fashion-industry-analysis\\Crawling\\data_for_analysis\\detail_info_all.json\n"
     ]
    }
   ],
   "source": [
    "import os\n",
    "import json\n",
    "\n",
    "# Step 1: List all JSON files in the folder\n",
    "folder_path = r\"E:\\COLLEGE\\PROJECT\\designer-fashion-industry-analysis\\temp_crawling_results\"\n",
    "json_files = [file for file in os.listdir(folder_path) if file.endswith('.json')]\n",
    "\n",
    "# Step 2: Merge all JSON files into one dictionary\n",
    "merged_data = {}\n",
    "for file in json_files:\n",
    "    with open(os.path.join(folder_path, file), 'r') as f:\n",
    "        data = json.load(f)\n",
    "        for key, value in data.items():\n",
    "            if key in merged_data:\n",
    "                merged_data[key].append(value)\n",
    "            else:\n",
    "                merged_data[key] = [value]\n",
    "\n",
    "# Step 3: Save merged data to a new JSON file\n",
    "output_folder = r'E:\\COLLEGE\\PROJECT\\designer-fashion-industry-analysis\\Crawling\\data_for_analysis'\n",
    "if not os.path.exists(output_folder):\n",
    "    os.makedirs(output_folder)\n",
    "output_file_path = os.path.join(output_folder, 'detail_info_all.json')\n",
    "with open(output_file_path, 'w') as f:\n",
    "    json.dump(merged_data, f, indent=4)\n",
    "\n",
    "print(\"Merged data saved to:\", output_file_path)"
   ]
  },
  {
   "cell_type": "code",
   "execution_count": 2,
   "metadata": {},
   "outputs": [
    {
     "data": {
      "text/html": [
       "<div>\n",
       "<style scoped>\n",
       "    .dataframe tbody tr th:only-of-type {\n",
       "        vertical-align: middle;\n",
       "    }\n",
       "\n",
       "    .dataframe tbody tr th {\n",
       "        vertical-align: top;\n",
       "    }\n",
       "\n",
       "    .dataframe thead th {\n",
       "        text-align: right;\n",
       "    }\n",
       "</style>\n",
       "<table border=\"1\" class=\"dataframe\">\n",
       "  <thead>\n",
       "    <tr style=\"text-align: right;\">\n",
       "      <th></th>\n",
       "      <th>Brand</th>\n",
       "      <th>Dress/Skirt Style</th>\n",
       "      <th>Dress/Skirt Length</th>\n",
       "      <th>KÍCH THƯỚC</th>\n",
       "      <th>Crossed Price</th>\n",
       "      <th>Cropped Top</th>\n",
       "      <th>Description</th>\n",
       "      <th>Country of Origin</th>\n",
       "      <th>MÀU SẮC</th>\n",
       "      <th>Stock</th>\n",
       "      <th>...</th>\n",
       "      <th>Sold</th>\n",
       "      <th>Image List</th>\n",
       "      <th>Sleeve Length</th>\n",
       "      <th>Pattern</th>\n",
       "      <th>Date Crawled</th>\n",
       "      <th>Neckline</th>\n",
       "      <th>Kích Thước</th>\n",
       "      <th>Platform</th>\n",
       "      <th>Quantity</th>\n",
       "      <th>Percent Discount</th>\n",
       "    </tr>\n",
       "  </thead>\n",
       "  <tbody>\n",
       "    <tr>\n",
       "      <th>0</th>\n",
       "      <td>ELISE</td>\n",
       "      <td>None</td>\n",
       "      <td>None</td>\n",
       "      <td>None</td>\n",
       "      <td>₫1.798.000</td>\n",
       "      <td>None</td>\n",
       "      <td>Sản phẩm được sử dụng chất liệu cao cấp, độ bề...</td>\n",
       "      <td>Vietnam</td>\n",
       "      <td>None</td>\n",
       "      <td>62</td>\n",
       "      <td>...</td>\n",
       "      <td>8</td>\n",
       "      <td>{'001_Aó khoác đen trần bông quả trám phối lụa...</td>\n",
       "      <td>None</td>\n",
       "      <td>None</td>\n",
       "      <td>2024-04-19</td>\n",
       "      <td>None</td>\n",
       "      <td>[L, M, S, XL]</td>\n",
       "      <td>Shopee</td>\n",
       "      <td>[Quantity 1, 62 pieces available]</td>\n",
       "      <td>60% OFF</td>\n",
       "    </tr>\n",
       "    <tr>\n",
       "      <th>1</th>\n",
       "      <td>ELISE</td>\n",
       "      <td>None</td>\n",
       "      <td>None</td>\n",
       "      <td>None</td>\n",
       "      <td>₫898.000</td>\n",
       "      <td>None</td>\n",
       "      <td>Sản phẩm được sử dụng chất liệu cao cấp, độ bề...</td>\n",
       "      <td>Vietnam</td>\n",
       "      <td>None</td>\n",
       "      <td>117</td>\n",
       "      <td>...</td>\n",
       "      <td>20</td>\n",
       "      <td>{'001_Body suit trắng khóa cổ thiết kế Elise F...</td>\n",
       "      <td>Short Sleeves</td>\n",
       "      <td>None</td>\n",
       "      <td>2024-04-19</td>\n",
       "      <td>None</td>\n",
       "      <td>[L, M, S, XL]</td>\n",
       "      <td>Shopee</td>\n",
       "      <td>[Quantity 1, 117 pieces available]</td>\n",
       "      <td>60% OFF</td>\n",
       "    </tr>\n",
       "    <tr>\n",
       "      <th>2</th>\n",
       "      <td>ELISE</td>\n",
       "      <td>None</td>\n",
       "      <td>None</td>\n",
       "      <td>None</td>\n",
       "      <td>₫898.000</td>\n",
       "      <td>None</td>\n",
       "      <td>Sản phẩm được sử dụng chất liệu cao cấp, độ bề...</td>\n",
       "      <td>Vietnam</td>\n",
       "      <td>None</td>\n",
       "      <td>168</td>\n",
       "      <td>...</td>\n",
       "      <td>0</td>\n",
       "      <td>{'001_Body suit vàng dài tay xoắn ngực thiết k...</td>\n",
       "      <td>Long Sleeves</td>\n",
       "      <td>Plain</td>\n",
       "      <td>2024-04-19</td>\n",
       "      <td>None</td>\n",
       "      <td>[L, M, S, XL]</td>\n",
       "      <td>Shopee</td>\n",
       "      <td>[Quantity 1, 168 pieces available]</td>\n",
       "      <td>60% OFF</td>\n",
       "    </tr>\n",
       "  </tbody>\n",
       "</table>\n",
       "<p>3 rows × 31 columns</p>\n",
       "</div>"
      ],
      "text/plain": [
       "   Brand Dress/Skirt Style Dress/Skirt Length KÍCH THƯỚC Crossed Price  \\\n",
       "0  ELISE              None               None       None    ₫1.798.000   \n",
       "1  ELISE              None               None       None      ₫898.000   \n",
       "2  ELISE              None               None       None      ₫898.000   \n",
       "\n",
       "  Cropped Top                                        Description  \\\n",
       "0        None  Sản phẩm được sử dụng chất liệu cao cấp, độ bề...   \n",
       "1        None  Sản phẩm được sử dụng chất liệu cao cấp, độ bề...   \n",
       "2        None  Sản phẩm được sử dụng chất liệu cao cấp, độ bề...   \n",
       "\n",
       "  Country of Origin MÀU SẮC Stock  ... Sold  \\\n",
       "0           Vietnam    None    62  ...    8   \n",
       "1           Vietnam    None   117  ...   20   \n",
       "2           Vietnam    None   168  ...    0   \n",
       "\n",
       "                                          Image List  Sleeve Length Pattern  \\\n",
       "0  {'001_Aó khoác đen trần bông quả trám phối lụa...           None    None   \n",
       "1  {'001_Body suit trắng khóa cổ thiết kế Elise F...  Short Sleeves    None   \n",
       "2  {'001_Body suit vàng dài tay xoắn ngực thiết k...   Long Sleeves   Plain   \n",
       "\n",
       "  Date Crawled Neckline     Kích Thước Platform  \\\n",
       "0   2024-04-19     None  [L, M, S, XL]   Shopee   \n",
       "1   2024-04-19     None  [L, M, S, XL]   Shopee   \n",
       "2   2024-04-19     None  [L, M, S, XL]   Shopee   \n",
       "\n",
       "                             Quantity Percent Discount  \n",
       "0   [Quantity 1, 62 pieces available]          60% OFF  \n",
       "1  [Quantity 1, 117 pieces available]          60% OFF  \n",
       "2  [Quantity 1, 168 pieces available]          60% OFF  \n",
       "\n",
       "[3 rows x 31 columns]"
      ]
     },
     "execution_count": 2,
     "metadata": {},
     "output_type": "execute_result"
    }
   ],
   "source": [
    "import os\n",
    "import pandas as pd\n",
    "import json\n",
    "\n",
    "# Step 1: List all JSON files in the folder\n",
    "folder_path = r\"E:\\COLLEGE\\PROJECT\\designer-fashion-industry-analysis\\temp_crawling_results\"\n",
    "json_files = [file for file in os.listdir(folder_path) if file.endswith('.json')]\n",
    "\n",
    "# Step 2: Extract all unique keys from product_info dictionaries\n",
    "all_keys = set()\n",
    "for file in json_files:\n",
    "    with open(os.path.join(folder_path, file), 'r') as f:\n",
    "        data = json.load(f)\n",
    "        all_keys.update([key.strip() for key in data['product_info'].keys()])\n",
    "\n",
    "all_keys = list(all_keys)\n",
    "\n",
    "rows = []\n",
    "\n",
    "# Step 4: Fill in list with data from JSON files\n",
    "for file in json_files:\n",
    "    with open(os.path.join(folder_path, file), 'r') as f:\n",
    "        row = {}\n",
    "        data = json.load(f)\n",
    "        product_info = data['product_info']\n",
    "        current_prod_info_keys = [key.strip() for key in product_info.keys()]\n",
    "        for key in all_keys:\n",
    "            if key in current_prod_info_keys:\n",
    "                row[key] = product_info[key]\n",
    "            else:\n",
    "                row[key] = None\n",
    "            \n",
    "        rows.append(row)\n",
    "            \n",
    "\n",
    "# Step 5: Create DataFrame from the list of rows\n",
    "product_info_df = pd.DataFrame(rows)\n",
    "output_folder = r'E:\\COLLEGE\\PROJECT\\designer-fashion-industry-analysis\\Crawling\\data_for_analysis'\n",
    "if not os.path.exists(output_folder):\n",
    "    os.makedirs(output_folder)\n",
    "excel_file_path = os.path.join(output_folder, 'product_info.xlsx')\n",
    "product_info_df.to_excel(excel_file_path, index=False, sheet_name='product_info')\n",
    "product_info_df.head(3)"
   ]
  },
  {
   "cell_type": "code",
   "execution_count": 3,
   "metadata": {},
   "outputs": [
    {
     "data": {
      "text/plain": [
       "Index(['Brand', 'Dress/Skirt Style', 'Dress/Skirt Length', 'KÍCH THƯỚC',\n",
       "       'Crossed Price', 'Cropped Top', 'Description', 'Country of Origin',\n",
       "       'MÀU SẮC', 'Stock', 'Bottoms Length', 'Bottoms Fit Type', 'Ships From',\n",
       "       'Rating Count', 'Màu Sắc', 'Average Rating', 'Bottoms Style',\n",
       "       'Current Price', 'Category', 'Product Title', 'Material', 'Sold',\n",
       "       'Image List', 'Sleeve Length', 'Pattern', 'Date Crawled', 'Neckline',\n",
       "       'Kích Thước', 'Platform', 'Quantity', 'Percent Discount'],\n",
       "      dtype='object')"
      ]
     },
     "execution_count": 3,
     "metadata": {},
     "output_type": "execute_result"
    }
   ],
   "source": [
    "product_info_df.columns"
   ]
  },
  {
   "cell_type": "code",
   "execution_count": 4,
   "metadata": {},
   "outputs": [
    {
     "data": {
      "text/plain": [
       "Index(['Brand', 'Dress/Skirt Style', 'Dress/Skirt Length', 'KÍCH THƯỚC',\n",
       "       'Crossed Price', 'Cropped Top', 'Description', 'Country of Origin',\n",
       "       'MÀU SẮC', 'Stock', 'Bottoms Length', 'Bottoms Fit Type', 'Ships From',\n",
       "       'Rating Count', 'Màu Sắc', 'Average Rating', 'Bottoms Style',\n",
       "       'Current Price', 'Category', 'Product Title', 'Material', 'Sold',\n",
       "       'Image List', 'Sleeve Length', 'Pattern', 'Date Crawled', 'Neckline',\n",
       "       'Kích Thước', 'Platform', 'Quantity', 'Percent Discount'],\n",
       "      dtype='object')"
      ]
     },
     "execution_count": 4,
     "metadata": {},
     "output_type": "execute_result"
    }
   ],
   "source": [
    "product_info_df.columns"
   ]
  },
  {
   "cell_type": "code",
   "execution_count": 5,
   "metadata": {},
   "outputs": [
    {
     "name": "stdout",
     "output_type": "stream",
     "text": [
      "<class 'pandas.core.frame.DataFrame'>\n",
      "RangeIndex: 488 entries, 0 to 487\n",
      "Data columns (total 31 columns):\n",
      " #   Column              Non-Null Count  Dtype \n",
      "---  ------              --------------  ----- \n",
      " 0   Brand               488 non-null    object\n",
      " 1   Dress/Skirt Style   28 non-null     object\n",
      " 2   Dress/Skirt Length  80 non-null     object\n",
      " 3   KÍCH THƯỚC          1 non-null      object\n",
      " 4   Crossed Price       484 non-null    object\n",
      " 5   Cropped Top         11 non-null     object\n",
      " 6   Description         488 non-null    object\n",
      " 7   Country of Origin   488 non-null    object\n",
      " 8   MÀU SẮC             1 non-null      object\n",
      " 9   Stock               488 non-null    object\n",
      " 10  Bottoms Length      17 non-null     object\n",
      " 11  Bottoms Fit Type    2 non-null      object\n",
      " 12  Ships From          488 non-null    object\n",
      " 13  Rating Count        275 non-null    object\n",
      " 14  Màu Sắc             486 non-null    object\n",
      " 15  Average Rating      275 non-null    object\n",
      " 16  Bottoms Style       8 non-null      object\n",
      " 17  Current Price       488 non-null    object\n",
      " 18  Category            488 non-null    object\n",
      " 19  Product Title       488 non-null    object\n",
      " 20  Material            140 non-null    object\n",
      " 21  Sold                488 non-null    object\n",
      " 22  Image List          488 non-null    object\n",
      " 23  Sleeve Length       99 non-null     object\n",
      " 24  Pattern             142 non-null    object\n",
      " 25  Date Crawled        488 non-null    object\n",
      " 26  Neckline            33 non-null     object\n",
      " 27  Kích Thước          486 non-null    object\n",
      " 28  Platform            488 non-null    object\n",
      " 29  Quantity            488 non-null    object\n",
      " 30  Percent Discount    484 non-null    object\n",
      "dtypes: object(31)\n",
      "memory usage: 118.3+ KB\n"
     ]
    }
   ],
   "source": [
    "product_info_df.info()"
   ]
  },
  {
   "cell_type": "code",
   "execution_count": 6,
   "metadata": {},
   "outputs": [
    {
     "data": {
      "text/html": [
       "<div>\n",
       "<style scoped>\n",
       "    .dataframe tbody tr th:only-of-type {\n",
       "        vertical-align: middle;\n",
       "    }\n",
       "\n",
       "    .dataframe tbody tr th {\n",
       "        vertical-align: top;\n",
       "    }\n",
       "\n",
       "    .dataframe thead th {\n",
       "        text-align: right;\n",
       "    }\n",
       "</style>\n",
       "<table border=\"1\" class=\"dataframe\">\n",
       "  <thead>\n",
       "    <tr style=\"text-align: right;\">\n",
       "      <th></th>\n",
       "      <th>Product Title</th>\n",
       "      <th>Current Price</th>\n",
       "    </tr>\n",
       "  </thead>\n",
       "  <tbody>\n",
       "  </tbody>\n",
       "</table>\n",
       "</div>"
      ],
      "text/plain": [
       "Empty DataFrame\n",
       "Columns: [Product Title, Current Price]\n",
       "Index: []"
      ]
     },
     "execution_count": 6,
     "metadata": {},
     "output_type": "execute_result"
    }
   ],
   "source": [
    "product_info_df[['Product Title', 'Current Price']][product_info_df['Current Price'].isnull()]"
   ]
  },
  {
   "cell_type": "code",
   "execution_count": 7,
   "metadata": {},
   "outputs": [],
   "source": [
    "product_info_df['Sold'] = product_info_df['Sold'].astype(int)"
   ]
  },
  {
   "cell_type": "code",
   "execution_count": 8,
   "metadata": {},
   "outputs": [
    {
     "data": {
      "text/plain": [
       "(-0.163, 16.2]    347\n",
       "(16.2, 32.4]       53\n",
       "(32.4, 48.6]       34\n",
       "(48.6, 64.8]       14\n",
       "(81.0, 97.2]       13\n",
       "(64.8, 81.0]        8\n",
       "(97.2, 113.4]       8\n",
       "(145.8, 162.0]      6\n",
       "(113.4, 129.6]      5\n",
       "(129.6, 145.8]      0\n",
       "Name: count, dtype: int64"
      ]
     },
     "execution_count": 8,
     "metadata": {},
     "output_type": "execute_result"
    }
   ],
   "source": [
    "product_info_df['Sold'].value_counts(bins=10)"
   ]
  },
  {
   "cell_type": "code",
   "execution_count": 9,
   "metadata": {},
   "outputs": [
    {
     "data": {
      "text/plain": [
       "Pattern\n",
       "Plain                         66\n",
       "Floral                        41\n",
       "Striped                       14\n",
       "Polka Dotted                   8\n",
       "Checkered / Plaid              4\n",
       "Checkered / Plaid, Striped     2\n",
       "Plain, Striped                 2\n",
       "Floral, Plain                  2\n",
       "Polka Dotted, Striped          1\n",
       "Print                          1\n",
       "Floral, Print                  1\n",
       "Name: count, dtype: int64"
      ]
     },
     "execution_count": 9,
     "metadata": {},
     "output_type": "execute_result"
    }
   ],
   "source": [
    "product_info_df['Pattern'].value_counts()"
   ]
  },
  {
   "cell_type": "code",
   "execution_count": 10,
   "metadata": {},
   "outputs": [],
   "source": [
    "import re\n",
    "\n",
    "product_info_df['Current Price'] = product_info_df['Current Price'].fillna('')\n",
    "product_info_df['Current Price'] = product_info_df['Current Price'].str.replace(r'₫','').str.replace('.','')\n",
    "product_info_df['Current Price'] = pd.to_numeric(product_info_df['Current Price'])"
   ]
  },
  {
   "cell_type": "code",
   "execution_count": 11,
   "metadata": {},
   "outputs": [
    {
     "data": {
      "text/plain": [
       "(197399.69900000002, 499250.0]    130\n",
       "(499250.0, 799300.0]              249\n",
       "(799300.0, 1099350.0]              86\n",
       "(1099350.0, 1399400.0]             19\n",
       "(1399400.0, 1699450.0]              1\n",
       "(1699450.0, 1999500.0]              3\n",
       "Name: count, dtype: int64"
      ]
     },
     "metadata": {},
     "output_type": "display_data"
    },
    {
     "name": "stdout",
     "output_type": "stream",
     "text": [
      "488\n"
     ]
    }
   ],
   "source": [
    "numbers_intervals = []\n",
    "display(product_info_df['Current Price'].value_counts(bins=6).sort_index())\n",
    "print(len(product_info_df))"
   ]
  },
  {
   "cell_type": "code",
   "execution_count": 12,
   "metadata": {},
   "outputs": [
    {
     "data": {
      "text/plain": [
       "(-0.163, 23.143]      375\n",
       "(23.143, 46.286]       57\n",
       "(46.286, 69.429]       19\n",
       "(69.429, 92.571]       14\n",
       "(92.571, 115.714]      13\n",
       "(115.714, 138.857]      4\n",
       "(138.857, 162.0]        6\n",
       "Name: count, dtype: int64"
      ]
     },
     "metadata": {},
     "output_type": "display_data"
    },
    {
     "name": "stdout",
     "output_type": "stream",
     "text": [
      "488\n"
     ]
    }
   ],
   "source": [
    "numbers_intervals = []\n",
    "display(product_info_df['Sold'].value_counts(bins=7).sort_index())\n",
    "print(len(product_info_df))"
   ]
  },
  {
   "cell_type": "code",
   "execution_count": 13,
   "metadata": {},
   "outputs": [
    {
     "data": {
      "text/html": [
       "<div>\n",
       "<style scoped>\n",
       "    .dataframe tbody tr th:only-of-type {\n",
       "        vertical-align: middle;\n",
       "    }\n",
       "\n",
       "    .dataframe tbody tr th {\n",
       "        vertical-align: top;\n",
       "    }\n",
       "\n",
       "    .dataframe thead th {\n",
       "        text-align: right;\n",
       "    }\n",
       "</style>\n",
       "<table border=\"1\" class=\"dataframe\">\n",
       "  <thead>\n",
       "    <tr style=\"text-align: right;\">\n",
       "      <th></th>\n",
       "      <th>Category</th>\n",
       "      <th>lowest cat</th>\n",
       "      <th>prod num</th>\n",
       "    </tr>\n",
       "  </thead>\n",
       "  <tbody>\n",
       "    <tr>\n",
       "      <th>0</th>\n",
       "      <td>Shopee&gt;Women Clothes&gt;Dresses</td>\n",
       "      <td>Dresses</td>\n",
       "      <td>132</td>\n",
       "    </tr>\n",
       "    <tr>\n",
       "      <th>1</th>\n",
       "      <td>Shopee&gt;Women Clothes&gt;Jackets, Coats &amp; Vests&gt;Capes</td>\n",
       "      <td>Capes</td>\n",
       "      <td>1</td>\n",
       "    </tr>\n",
       "    <tr>\n",
       "      <th>2</th>\n",
       "      <td>Shopee&gt;Women Clothes&gt;Jackets, Coats &amp; Vests&gt;Ja...</td>\n",
       "      <td>Jackets</td>\n",
       "      <td>4</td>\n",
       "    </tr>\n",
       "    <tr>\n",
       "      <th>3</th>\n",
       "      <td>Shopee&gt;Women Clothes&gt;Jackets, Coats &amp; Vests&gt;Vests</td>\n",
       "      <td>Vests</td>\n",
       "      <td>34</td>\n",
       "    </tr>\n",
       "    <tr>\n",
       "      <th>4</th>\n",
       "      <td>Shopee&gt;Women Clothes&gt;Jackets, Coats &amp; Vests&gt;Wi...</td>\n",
       "      <td>Winter Jackets &amp; Coats</td>\n",
       "      <td>2</td>\n",
       "    </tr>\n",
       "    <tr>\n",
       "      <th>5</th>\n",
       "      <td>Shopee&gt;Women Clothes&gt;Jumpsuits, Playsuits &amp; Ov...</td>\n",
       "      <td>Jumpsuits</td>\n",
       "      <td>9</td>\n",
       "    </tr>\n",
       "    <tr>\n",
       "      <th>6</th>\n",
       "      <td>Shopee&gt;Women Clothes&gt;Pants &amp; Leggings&gt;Pants</td>\n",
       "      <td>Pants</td>\n",
       "      <td>45</td>\n",
       "    </tr>\n",
       "    <tr>\n",
       "      <th>7</th>\n",
       "      <td>Shopee&gt;Women Clothes&gt;Sets&gt;Individual Sets</td>\n",
       "      <td>Individual Sets</td>\n",
       "      <td>11</td>\n",
       "    </tr>\n",
       "    <tr>\n",
       "      <th>8</th>\n",
       "      <td>Shopee&gt;Women Clothes&gt;Shorts&gt;Shorts</td>\n",
       "      <td>Shorts</td>\n",
       "      <td>27</td>\n",
       "    </tr>\n",
       "    <tr>\n",
       "      <th>9</th>\n",
       "      <td>Shopee&gt;Women Clothes&gt;Shorts&gt;Skorts</td>\n",
       "      <td>Skorts</td>\n",
       "      <td>1</td>\n",
       "    </tr>\n",
       "    <tr>\n",
       "      <th>10</th>\n",
       "      <td>Shopee&gt;Women Clothes&gt;Skirts</td>\n",
       "      <td>Skirts</td>\n",
       "      <td>78</td>\n",
       "    </tr>\n",
       "    <tr>\n",
       "      <th>11</th>\n",
       "      <td>Shopee&gt;Women Clothes&gt;Sweaters &amp; Cardigans</td>\n",
       "      <td>Sweaters &amp; Cardigans</td>\n",
       "      <td>1</td>\n",
       "    </tr>\n",
       "    <tr>\n",
       "      <th>12</th>\n",
       "      <td>Shopee&gt;Women Clothes&gt;Tops&gt;Others</td>\n",
       "      <td>Others</td>\n",
       "      <td>1</td>\n",
       "    </tr>\n",
       "    <tr>\n",
       "      <th>13</th>\n",
       "      <td>Shopee&gt;Women Clothes&gt;Tops&gt;Polo Shirts</td>\n",
       "      <td>Polo Shirts</td>\n",
       "      <td>1</td>\n",
       "    </tr>\n",
       "    <tr>\n",
       "      <th>14</th>\n",
       "      <td>Shopee&gt;Women Clothes&gt;Tops&gt;Shirts &amp; Blouses</td>\n",
       "      <td>Shirts &amp; Blouses</td>\n",
       "      <td>105</td>\n",
       "    </tr>\n",
       "    <tr>\n",
       "      <th>15</th>\n",
       "      <td>Shopee&gt;Women Clothes&gt;Tops&gt;T-shirts</td>\n",
       "      <td>T-shirts</td>\n",
       "      <td>19</td>\n",
       "    </tr>\n",
       "    <tr>\n",
       "      <th>16</th>\n",
       "      <td>Shopee&gt;Women Clothes&gt;Tops&gt;Tanks &amp; Camisoles</td>\n",
       "      <td>Tanks &amp; Camisoles</td>\n",
       "      <td>2</td>\n",
       "    </tr>\n",
       "    <tr>\n",
       "      <th>17</th>\n",
       "      <td>Shopee&gt;Women Clothes&gt;Tops&gt;Tube Tops</td>\n",
       "      <td>Tube Tops</td>\n",
       "      <td>1</td>\n",
       "    </tr>\n",
       "    <tr>\n",
       "      <th>18</th>\n",
       "      <td>Shopee&gt;Women Clothes&gt;Traditional Wear&gt;Bottoms</td>\n",
       "      <td>Bottoms</td>\n",
       "      <td>13</td>\n",
       "    </tr>\n",
       "    <tr>\n",
       "      <th>19</th>\n",
       "      <td>Shopee&gt;Women Clothes&gt;Traditional Wear&gt;Dresses</td>\n",
       "      <td>Dresses</td>\n",
       "      <td>1</td>\n",
       "    </tr>\n",
       "  </tbody>\n",
       "</table>\n",
       "</div>"
      ],
      "text/plain": [
       "                                             Category              lowest cat  \\\n",
       "0                        Shopee>Women Clothes>Dresses                 Dresses   \n",
       "1   Shopee>Women Clothes>Jackets, Coats & Vests>Capes                   Capes   \n",
       "2   Shopee>Women Clothes>Jackets, Coats & Vests>Ja...                 Jackets   \n",
       "3   Shopee>Women Clothes>Jackets, Coats & Vests>Vests                   Vests   \n",
       "4   Shopee>Women Clothes>Jackets, Coats & Vests>Wi...  Winter Jackets & Coats   \n",
       "5   Shopee>Women Clothes>Jumpsuits, Playsuits & Ov...               Jumpsuits   \n",
       "6         Shopee>Women Clothes>Pants & Leggings>Pants                   Pants   \n",
       "7           Shopee>Women Clothes>Sets>Individual Sets         Individual Sets   \n",
       "8                  Shopee>Women Clothes>Shorts>Shorts                  Shorts   \n",
       "9                  Shopee>Women Clothes>Shorts>Skorts                  Skorts   \n",
       "10                        Shopee>Women Clothes>Skirts                  Skirts   \n",
       "11          Shopee>Women Clothes>Sweaters & Cardigans    Sweaters & Cardigans   \n",
       "12                   Shopee>Women Clothes>Tops>Others                  Others   \n",
       "13              Shopee>Women Clothes>Tops>Polo Shirts             Polo Shirts   \n",
       "14         Shopee>Women Clothes>Tops>Shirts & Blouses        Shirts & Blouses   \n",
       "15                 Shopee>Women Clothes>Tops>T-shirts                T-shirts   \n",
       "16        Shopee>Women Clothes>Tops>Tanks & Camisoles       Tanks & Camisoles   \n",
       "17                Shopee>Women Clothes>Tops>Tube Tops               Tube Tops   \n",
       "18      Shopee>Women Clothes>Traditional Wear>Bottoms                 Bottoms   \n",
       "19      Shopee>Women Clothes>Traditional Wear>Dresses                 Dresses   \n",
       "\n",
       "    prod num  \n",
       "0        132  \n",
       "1          1  \n",
       "2          4  \n",
       "3         34  \n",
       "4          2  \n",
       "5          9  \n",
       "6         45  \n",
       "7         11  \n",
       "8         27  \n",
       "9          1  \n",
       "10        78  \n",
       "11         1  \n",
       "12         1  \n",
       "13         1  \n",
       "14       105  \n",
       "15        19  \n",
       "16         2  \n",
       "17         1  \n",
       "18        13  \n",
       "19         1  "
      ]
     },
     "metadata": {},
     "output_type": "display_data"
    }
   ],
   "source": [
    "product_info_df['lowest_cat'] = product_info_df['Category'].str.split('>').str.get(-1)\n",
    "num_products_each_cat = product_info_df.groupby(['Category','lowest_cat']).size().reset_index()\n",
    "num_products_each_cat.columns = ['Category','lowest cat', 'prod num']\n",
    "display(num_products_each_cat)\n",
    "num_products_each_cat.to_excel('..\\data_for_analysis\\Lượng sản phẩm mỗi Category.xlsx',sheet_name='prods each cat', index=False, header=True)"
   ]
  }
 ],
 "metadata": {
  "kernelspec": {
   "display_name": "Python 3",
   "language": "python",
   "name": "python3"
  },
  "language_info": {
   "codemirror_mode": {
    "name": "ipython",
    "version": 3
   },
   "file_extension": ".py",
   "mimetype": "text/x-python",
   "name": "python",
   "nbconvert_exporter": "python",
   "pygments_lexer": "ipython3",
   "version": "3.11.0"
  }
 },
 "nbformat": 4,
 "nbformat_minor": 2
}
