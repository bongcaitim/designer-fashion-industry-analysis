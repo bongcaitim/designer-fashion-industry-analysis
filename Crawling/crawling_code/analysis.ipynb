{
 "cells": [
  {
   "cell_type": "code",
   "execution_count": 42,
   "metadata": {},
   "outputs": [
    {
     "name": "stdout",
     "output_type": "stream",
     "text": [
      "Merged data saved to: E:\\COLLEGE\\PROJECT\\designer-fashion-industry-analysis\\Crawling\\data_for_analysis\\sixdo\\detail_info_all.json\n"
     ]
    }
   ],
   "source": [
    "import os\n",
    "import json\n",
    "\n",
    "brand='sixdo'\n",
    "\n",
    "# Step 1: List all JSON files in the folder\n",
    "folder_path = f\"E:\\\\COLLEGE\\\\PROJECT\\\\designer-fashion-industry-analysis\\\\temp_crawling_results\\\\{brand}\"\n",
    "json_files = [file for file in os.listdir(folder_path) if file.endswith('.json')]\n",
    "\n",
    "# Step 2: Merge all JSON files into one dictionary\n",
    "merged_data = {}\n",
    "for file in json_files:\n",
    "    with open(os.path.join(folder_path, file), 'r') as f:\n",
    "        data = json.load(f)\n",
    "        for key, value in data.items():\n",
    "            if key in merged_data:\n",
    "                merged_data[key].append(value)\n",
    "            else:\n",
    "                merged_data[key] = [value]\n",
    "\n",
    "# Step 3: Save merged data to a new JSON file\n",
    "output_folder = f'E:\\\\COLLEGE\\\\PROJECT\\\\designer-fashion-industry-analysis\\\\Crawling\\\\data_for_analysis\\\\{brand}'\n",
    "if not os.path.exists(output_folder):\n",
    "    os.makedirs(output_folder)\n",
    "output_file_path = os.path.join(output_folder, f'detail_info_all.json')\n",
    "with open(output_file_path, 'w') as f:\n",
    "    json.dump(merged_data, f, indent=4)\n",
    "\n",
    "print(\"Merged data saved to:\", output_file_path)"
   ]
  },
  {
   "cell_type": "code",
   "execution_count": 43,
   "metadata": {},
   "outputs": [
    {
     "data": {
      "text/html": [
       "<div>\n",
       "<style scoped>\n",
       "    .dataframe tbody tr th:only-of-type {\n",
       "        vertical-align: middle;\n",
       "    }\n",
       "\n",
       "    .dataframe tbody tr th {\n",
       "        vertical-align: top;\n",
       "    }\n",
       "\n",
       "    .dataframe thead th {\n",
       "        text-align: right;\n",
       "    }\n",
       "</style>\n",
       "<table border=\"1\" class=\"dataframe\">\n",
       "  <thead>\n",
       "    <tr style=\"text-align: right;\">\n",
       "      <th></th>\n",
       "      <th>Hat Style</th>\n",
       "      <th>Bottoms Length</th>\n",
       "      <th>Current Price</th>\n",
       "      <th>SIZE</th>\n",
       "      <th>MàU SắC</th>\n",
       "      <th>Dress/Skirt Style</th>\n",
       "      <th>Product Title</th>\n",
       "      <th>Màu Sắc</th>\n",
       "      <th>Description</th>\n",
       "      <th>Cropped Top</th>\n",
       "      <th>...</th>\n",
       "      <th>Category</th>\n",
       "      <th>Sleeve Length</th>\n",
       "      <th>Occasion</th>\n",
       "      <th>Neckline</th>\n",
       "      <th>Dress/Skirt Length</th>\n",
       "      <th>Sold</th>\n",
       "      <th>MÀU</th>\n",
       "      <th>Style</th>\n",
       "      <th>Material</th>\n",
       "      <th>Date Crawled</th>\n",
       "    </tr>\n",
       "  </thead>\n",
       "  <tbody>\n",
       "    <tr>\n",
       "      <th>0</th>\n",
       "      <td>None</td>\n",
       "      <td>None</td>\n",
       "      <td>₫748.000</td>\n",
       "      <td>[S, M, L, XL]</td>\n",
       "      <td>None</td>\n",
       "      <td>None</td>\n",
       "      <td>Áo họa tiết hoa SIXDO (White Top With Embro...</td>\n",
       "      <td>None</td>\n",
       "      <td>SIXDO là nơi phái NỮ có thể tìm thấy sự đa dạn...</td>\n",
       "      <td>None</td>\n",
       "      <td>...</td>\n",
       "      <td>Shopee&gt;Women Clothes&gt;Tops&gt;Shirts &amp; Blouses</td>\n",
       "      <td>Short Sleeves</td>\n",
       "      <td>None</td>\n",
       "      <td>None</td>\n",
       "      <td>None</td>\n",
       "      <td>0</td>\n",
       "      <td>None</td>\n",
       "      <td>None</td>\n",
       "      <td>None</td>\n",
       "      <td>2024-04-26</td>\n",
       "    </tr>\n",
       "    <tr>\n",
       "      <th>1</th>\n",
       "      <td>None</td>\n",
       "      <td>None</td>\n",
       "      <td>₫1.961.673</td>\n",
       "      <td>None</td>\n",
       "      <td>[Black]</td>\n",
       "      <td>None</td>\n",
       "      <td>Áo khoác dáng dài SIXDO (Black Plaid Long ...</td>\n",
       "      <td>None</td>\n",
       "      <td>SIXDO là nơi phái NỮ có thể tìm thấy sự đa dạn...</td>\n",
       "      <td>None</td>\n",
       "      <td>...</td>\n",
       "      <td>Shopee&gt;Women Clothes&gt;Tops&gt;Shirts &amp; Blouses</td>\n",
       "      <td>Long Sleeves</td>\n",
       "      <td>None</td>\n",
       "      <td>None</td>\n",
       "      <td>None</td>\n",
       "      <td>9</td>\n",
       "      <td>None</td>\n",
       "      <td>None</td>\n",
       "      <td>Woven</td>\n",
       "      <td>2024-04-27</td>\n",
       "    </tr>\n",
       "    <tr>\n",
       "      <th>2</th>\n",
       "      <td>None</td>\n",
       "      <td>None</td>\n",
       "      <td>₫439.000</td>\n",
       "      <td>[S, M, L]</td>\n",
       "      <td>None</td>\n",
       "      <td>None</td>\n",
       "      <td>Áo sơ mi chấm bi SIXDO (Polka Dot Midi Woven...</td>\n",
       "      <td>None</td>\n",
       "      <td>SIXDO là nơi phái NỮ có thể tìm thấy sự đa dạn...</td>\n",
       "      <td>None</td>\n",
       "      <td>...</td>\n",
       "      <td>Shopee&gt;Women Clothes&gt;Tops&gt;Shirts &amp; Blouses</td>\n",
       "      <td>Long Sleeves</td>\n",
       "      <td>None</td>\n",
       "      <td>None</td>\n",
       "      <td>None</td>\n",
       "      <td>1</td>\n",
       "      <td>[Black Polka Big, Dark Brown Polka Dot]</td>\n",
       "      <td>None</td>\n",
       "      <td>None</td>\n",
       "      <td>2024-04-27</td>\n",
       "    </tr>\n",
       "  </tbody>\n",
       "</table>\n",
       "<p>3 rows × 41 columns</p>\n",
       "</div>"
      ],
      "text/plain": [
       "  Hat Style Bottoms Length Current Price           SIZE MàU SắC  \\\n",
       "0      None           None      ₫748.000  [S, M, L, XL]      None   \n",
       "1      None           None    ₫1.961.673           None   [Black]   \n",
       "2      None           None      ₫439.000      [S, M, L]      None   \n",
       "\n",
       "  Dress/Skirt Style                                      Product Title  \\\n",
       "0              None  Áo họa tiết hoa SIXDO (White Top With Embro...   \n",
       "1              None  Áo khoác dáng dài SIXDO (Black Plaid Long ...   \n",
       "2              None  Áo sơ mi chấm bi SIXDO (Polka Dot Midi Woven...   \n",
       "\n",
       "  Màu Sắc                                        Description Cropped Top  ...  \\\n",
       "0    None  SIXDO là nơi phái NỮ có thể tìm thấy sự đa dạn...        None  ...   \n",
       "1    None  SIXDO là nơi phái NỮ có thể tìm thấy sự đa dạn...        None  ...   \n",
       "2    None  SIXDO là nơi phái NỮ có thể tìm thấy sự đa dạn...        None  ...   \n",
       "\n",
       "                                     Category  Sleeve Length Occasion  \\\n",
       "0  Shopee>Women Clothes>Tops>Shirts & Blouses  Short Sleeves     None   \n",
       "1  Shopee>Women Clothes>Tops>Shirts & Blouses   Long Sleeves     None   \n",
       "2  Shopee>Women Clothes>Tops>Shirts & Blouses   Long Sleeves     None   \n",
       "\n",
       "  Neckline Dress/Skirt Length Sold                                      MÀU  \\\n",
       "0     None               None    0                                     None   \n",
       "1     None               None    9                                     None   \n",
       "2     None               None    1  [Black Polka Big, Dark Brown Polka Dot]   \n",
       "\n",
       "  Style Material Date Crawled  \n",
       "0  None     None   2024-04-26  \n",
       "1  None    Woven   2024-04-27  \n",
       "2  None     None   2024-04-27  \n",
       "\n",
       "[3 rows x 41 columns]"
      ]
     },
     "execution_count": 43,
     "metadata": {},
     "output_type": "execute_result"
    }
   ],
   "source": [
    "import os\n",
    "import pandas as pd\n",
    "import json\n",
    "\n",
    "# Step 1: List all JSON files in the folder\n",
    "folder_path = f\"E:\\\\COLLEGE\\\\PROJECT\\\\designer-fashion-industry-analysis\\\\temp_crawling_results\\\\{brand}\"\n",
    "json_files = [file for file in os.listdir(folder_path) if file.endswith('.json')]\n",
    "\n",
    "# Step 2: Extract all unique keys from product_info dictionaries\n",
    "all_keys = set()\n",
    "for file in json_files:\n",
    "    with open(os.path.join(folder_path, file), 'r') as f:\n",
    "        data = json.load(f)\n",
    "        all_keys.update([key.strip() for key in data['product_info'].keys()])\n",
    "\n",
    "all_keys = list(all_keys)\n",
    "\n",
    "rows = []\n",
    "\n",
    "# Step 4: Fill in list with data from JSON files\n",
    "for file in json_files:\n",
    "    with open(os.path.join(folder_path, file), 'r') as f:\n",
    "        row = {}\n",
    "        data = json.load(f)\n",
    "        product_info = data['product_info']\n",
    "        current_prod_info_keys = [key.strip() for key in product_info.keys()]\n",
    "        for key in all_keys:\n",
    "            if key in current_prod_info_keys:\n",
    "                row[key] = product_info[key]\n",
    "            else:\n",
    "                row[key] = None\n",
    "            \n",
    "        rows.append(row)\n",
    "            \n",
    "\n",
    "# Step 5: Create DataFrame from the list of rows\n",
    "product_info_df = pd.DataFrame(rows)\n",
    "output_folder = f'E:\\\\COLLEGE\\\\PROJECT\\\\designer-fashion-industry-analysis\\\\Crawling\\\\data_for_analysis\\\\{brand}'\n",
    "if not os.path.exists(output_folder):\n",
    "    os.makedirs(output_folder)\n",
    "excel_file_path = os.path.join(output_folder, f'product_info.xlsx')\n",
    "product_info_df.to_excel(excel_file_path, index=False, sheet_name='product_info')\n",
    "product_info_df.head(3)"
   ]
  },
  {
   "cell_type": "code",
   "execution_count": 6,
   "metadata": {},
   "outputs": [
    {
     "data": {
      "text/plain": [
       "Index(['Hat Style', 'Bottoms Length', 'Current Price', 'SIZE', 'MàU SắC',\n",
       "       'Dress/Skirt Style', 'Product Title', 'Màu Sắc', 'Description',\n",
       "       'Cropped Top', 'Average Rating', 'Stock', 'Country of Origin',\n",
       "       'Bottoms Style', 'Size', 'Sizde', 'Màu Săc', 'Waist Height', 'Gender',\n",
       "       'Quantity', 'Ships From', 'Platform', 'Percent Discount',\n",
       "       'Crossed Price', 'Image List', 'Màu', 'Brand', 'Rating Count',\n",
       "       'Bottoms Fit Type', 'Pattern', 'Top Length', 'Category',\n",
       "       'Sleeve Length', 'Occasion', 'Neckline', 'Dress/Skirt Length', 'Sold',\n",
       "       'MÀU', 'Style', 'Material', 'Date Crawled'],\n",
       "      dtype='object')"
      ]
     },
     "execution_count": 6,
     "metadata": {},
     "output_type": "execute_result"
    }
   ],
   "source": [
    "product_info_df.columns"
   ]
  },
  {
   "cell_type": "code",
   "execution_count": 7,
   "metadata": {},
   "outputs": [
    {
     "data": {
      "text/plain": [
       "Index(['Hat Style', 'Bottoms Length', 'Current Price', 'SIZE', 'MàU SắC',\n",
       "       'Dress/Skirt Style', 'Product Title', 'Màu Sắc', 'Description',\n",
       "       'Cropped Top', 'Average Rating', 'Stock', 'Country of Origin',\n",
       "       'Bottoms Style', 'Size', 'Sizde', 'Màu Săc', 'Waist Height', 'Gender',\n",
       "       'Quantity', 'Ships From', 'Platform', 'Percent Discount',\n",
       "       'Crossed Price', 'Image List', 'Màu', 'Brand', 'Rating Count',\n",
       "       'Bottoms Fit Type', 'Pattern', 'Top Length', 'Category',\n",
       "       'Sleeve Length', 'Occasion', 'Neckline', 'Dress/Skirt Length', 'Sold',\n",
       "       'MÀU', 'Style', 'Material', 'Date Crawled'],\n",
       "      dtype='object')"
      ]
     },
     "execution_count": 7,
     "metadata": {},
     "output_type": "execute_result"
    }
   ],
   "source": [
    "product_info_df.columns"
   ]
  },
  {
   "cell_type": "code",
   "execution_count": 8,
   "metadata": {},
   "outputs": [
    {
     "name": "stdout",
     "output_type": "stream",
     "text": [
      "<class 'pandas.core.frame.DataFrame'>\n",
      "RangeIndex: 459 entries, 0 to 458\n",
      "Data columns (total 41 columns):\n",
      " #   Column              Non-Null Count  Dtype \n",
      "---  ------              --------------  ----- \n",
      " 0   Hat Style           1 non-null      object\n",
      " 1   Bottoms Length      5 non-null      object\n",
      " 2   Current Price       459 non-null    object\n",
      " 3   SIZE                83 non-null     object\n",
      " 4   MàU SắC           8 non-null      object\n",
      " 5   Dress/Skirt Style   112 non-null    object\n",
      " 6   Product Title       459 non-null    object\n",
      " 7   Màu Sắc             41 non-null     object\n",
      " 8   Description         459 non-null    object\n",
      " 9   Cropped Top         11 non-null     object\n",
      " 10  Average Rating      368 non-null    object\n",
      " 11  Stock               459 non-null    object\n",
      " 12  Country of Origin   88 non-null     object\n",
      " 13  Bottoms Style       3 non-null      object\n",
      " 14  Size                374 non-null    object\n",
      " 15  Sizde               1 non-null      object\n",
      " 16  Màu Săc             1 non-null      object\n",
      " 17  Waist Height        2 non-null      object\n",
      " 18  Gender              1 non-null      object\n",
      " 19  Quantity            459 non-null    object\n",
      " 20  Ships From          459 non-null    object\n",
      " 21  Platform            459 non-null    object\n",
      " 22  Percent Discount    456 non-null    object\n",
      " 23  Crossed Price       456 non-null    object\n",
      " 24  Image List          459 non-null    object\n",
      " 25  Màu                 94 non-null     object\n",
      " 26  Brand               459 non-null    object\n",
      " 27  Rating Count        368 non-null    object\n",
      " 28  Bottoms Fit Type    5 non-null      object\n",
      " 29  Pattern             243 non-null    object\n",
      " 30  Top Length          1 non-null      object\n",
      " 31  Category            459 non-null    object\n",
      " 32  Sleeve Length       219 non-null    object\n",
      " 33  Occasion            5 non-null      object\n",
      " 34  Neckline            111 non-null    object\n",
      " 35  Dress/Skirt Length  185 non-null    object\n",
      " 36  Sold                459 non-null    object\n",
      " 37  MÀU                 7 non-null      object\n",
      " 38  Style               1 non-null      object\n",
      " 39  Material            174 non-null    object\n",
      " 40  Date Crawled        459 non-null    object\n",
      "dtypes: object(41)\n",
      "memory usage: 147.1+ KB\n"
     ]
    }
   ],
   "source": [
    "product_info_df.info()"
   ]
  },
  {
   "cell_type": "code",
   "execution_count": 9,
   "metadata": {},
   "outputs": [
    {
     "data": {
      "text/html": [
       "<div>\n",
       "<style scoped>\n",
       "    .dataframe tbody tr th:only-of-type {\n",
       "        vertical-align: middle;\n",
       "    }\n",
       "\n",
       "    .dataframe tbody tr th {\n",
       "        vertical-align: top;\n",
       "    }\n",
       "\n",
       "    .dataframe thead th {\n",
       "        text-align: right;\n",
       "    }\n",
       "</style>\n",
       "<table border=\"1\" class=\"dataframe\">\n",
       "  <thead>\n",
       "    <tr style=\"text-align: right;\">\n",
       "      <th></th>\n",
       "      <th>Product Title</th>\n",
       "      <th>Current Price</th>\n",
       "    </tr>\n",
       "  </thead>\n",
       "  <tbody>\n",
       "  </tbody>\n",
       "</table>\n",
       "</div>"
      ],
      "text/plain": [
       "Empty DataFrame\n",
       "Columns: [Product Title, Current Price]\n",
       "Index: []"
      ]
     },
     "execution_count": 9,
     "metadata": {},
     "output_type": "execute_result"
    }
   ],
   "source": [
    "product_info_df[['Product Title', 'Current Price']][product_info_df['Current Price'].isnull()]"
   ]
  },
  {
   "cell_type": "code",
   "execution_count": 10,
   "metadata": {},
   "outputs": [],
   "source": [
    "product_info_df['Sold'] = product_info_df['Sold'].astype(int)"
   ]
  },
  {
   "cell_type": "code",
   "execution_count": 11,
   "metadata": {},
   "outputs": [
    {
     "data": {
      "text/plain": [
       "(-0.181, 18.0]    266\n",
       "(18.0, 36.0]      114\n",
       "(36.0, 54.0]       44\n",
       "(54.0, 72.0]       16\n",
       "(72.0, 90.0]       10\n",
       "(90.0, 108.0]       6\n",
       "(108.0, 126.0]      1\n",
       "(126.0, 144.0]      1\n",
       "(162.0, 180.0]      1\n",
       "(144.0, 162.0]      0\n",
       "Name: count, dtype: int64"
      ]
     },
     "execution_count": 11,
     "metadata": {},
     "output_type": "execute_result"
    }
   ],
   "source": [
    "product_info_df['Sold'].value_counts(bins=10)"
   ]
  },
  {
   "cell_type": "code",
   "execution_count": 12,
   "metadata": {},
   "outputs": [
    {
     "data": {
      "text/plain": [
       "Pattern\n",
       "Floral                   170\n",
       "Plain                     47\n",
       "Polka Dotted              18\n",
       "Striped                    3\n",
       "Checkered / Plaid          2\n",
       "Floral, Plain              1\n",
       "Floral, Polka Dotted       1\n",
       "Polka Dotted, Striped      1\n",
       "Name: count, dtype: int64"
      ]
     },
     "execution_count": 12,
     "metadata": {},
     "output_type": "execute_result"
    }
   ],
   "source": [
    "product_info_df['Pattern'].value_counts()"
   ]
  },
  {
   "cell_type": "code",
   "execution_count": 13,
   "metadata": {},
   "outputs": [],
   "source": [
    "import re\n",
    "\n",
    "product_info_df['Current Price'] = product_info_df['Current Price'].fillna('')\n",
    "product_info_df['Current Price'] = product_info_df['Current Price'].str.replace(r'₫','').str.replace('.','')\n",
    "product_info_df['Current Price'] = pd.to_numeric(product_info_df['Current Price'])"
   ]
  },
  {
   "cell_type": "code",
   "execution_count": 14,
   "metadata": {},
   "outputs": [
    {
     "data": {
      "text/plain": [
       "(195764.59900000002, 738233.333]    150\n",
       "(738233.333, 1277466.667]           231\n",
       "(1277466.667, 1816700.0]             58\n",
       "(1816700.0, 2355933.333]             11\n",
       "(2355933.333, 2895166.667]            7\n",
       "(2895166.667, 3434400.0]              2\n",
       "Name: count, dtype: int64"
      ]
     },
     "metadata": {},
     "output_type": "display_data"
    },
    {
     "name": "stdout",
     "output_type": "stream",
     "text": [
      "459\n"
     ]
    }
   ],
   "source": [
    "numbers_intervals = []\n",
    "display(product_info_df['Current Price'].value_counts(bins=6).sort_index())\n",
    "print(len(product_info_df))"
   ]
  },
  {
   "cell_type": "code",
   "execution_count": 15,
   "metadata": {},
   "outputs": [
    {
     "data": {
      "text/plain": [
       "(-0.181, 25.714]      318\n",
       "(25.714, 51.429]      102\n",
       "(51.429, 77.143]       21\n",
       "(77.143, 102.857]      15\n",
       "(102.857, 128.571]      2\n",
       "(128.571, 154.286]      0\n",
       "(154.286, 180.0]        1\n",
       "Name: count, dtype: int64"
      ]
     },
     "metadata": {},
     "output_type": "display_data"
    },
    {
     "name": "stdout",
     "output_type": "stream",
     "text": [
      "459\n"
     ]
    }
   ],
   "source": [
    "numbers_intervals = []\n",
    "display(product_info_df['Sold'].value_counts(bins=7).sort_index())\n",
    "print(len(product_info_df))"
   ]
  },
  {
   "cell_type": "code",
   "execution_count": 44,
   "metadata": {},
   "outputs": [
    {
     "data": {
      "text/html": [
       "<div>\n",
       "<style scoped>\n",
       "    .dataframe tbody tr th:only-of-type {\n",
       "        vertical-align: middle;\n",
       "    }\n",
       "\n",
       "    .dataframe tbody tr th {\n",
       "        vertical-align: top;\n",
       "    }\n",
       "\n",
       "    .dataframe thead th {\n",
       "        text-align: right;\n",
       "    }\n",
       "</style>\n",
       "<table border=\"1\" class=\"dataframe\">\n",
       "  <thead>\n",
       "    <tr style=\"text-align: right;\">\n",
       "      <th></th>\n",
       "      <th>Category</th>\n",
       "      <th>lowest cat</th>\n",
       "      <th>prod num</th>\n",
       "    </tr>\n",
       "  </thead>\n",
       "  <tbody>\n",
       "    <tr>\n",
       "      <th>0</th>\n",
       "      <td>Shopee&gt;Fashion Accessories&gt;Hats &amp; Caps</td>\n",
       "      <td>Hats &amp; Caps</td>\n",
       "      <td>1</td>\n",
       "    </tr>\n",
       "    <tr>\n",
       "      <th>1</th>\n",
       "      <td>Shopee&gt;Men Clothes&gt;Pants/Suits&gt;Pants</td>\n",
       "      <td>Pants</td>\n",
       "      <td>1</td>\n",
       "    </tr>\n",
       "    <tr>\n",
       "      <th>2</th>\n",
       "      <td>Shopee&gt;Men Clothes&gt;Tops&gt;Shirts</td>\n",
       "      <td>Shirts</td>\n",
       "      <td>1</td>\n",
       "    </tr>\n",
       "    <tr>\n",
       "      <th>3</th>\n",
       "      <td>Shopee&gt;Women Clothes&gt;Dresses</td>\n",
       "      <td>Dresses</td>\n",
       "      <td>279</td>\n",
       "    </tr>\n",
       "    <tr>\n",
       "      <th>4</th>\n",
       "      <td>Shopee&gt;Women Clothes&gt;Jackets, Coats &amp; Vests&gt;Bl...</td>\n",
       "      <td>Blazers</td>\n",
       "      <td>5</td>\n",
       "    </tr>\n",
       "    <tr>\n",
       "      <th>5</th>\n",
       "      <td>Shopee&gt;Women Clothes&gt;Jackets, Coats &amp; Vests&gt;Vests</td>\n",
       "      <td>Vests</td>\n",
       "      <td>27</td>\n",
       "    </tr>\n",
       "    <tr>\n",
       "      <th>6</th>\n",
       "      <td>Shopee&gt;Women Clothes&gt;Jackets, Coats &amp; Vests&gt;Wi...</td>\n",
       "      <td>Winter Jackets &amp; Coats</td>\n",
       "      <td>5</td>\n",
       "    </tr>\n",
       "    <tr>\n",
       "      <th>7</th>\n",
       "      <td>Shopee&gt;Women Clothes&gt;Pants &amp; Leggings&gt;Others</td>\n",
       "      <td>Others</td>\n",
       "      <td>1</td>\n",
       "    </tr>\n",
       "    <tr>\n",
       "      <th>8</th>\n",
       "      <td>Shopee&gt;Women Clothes&gt;Pants &amp; Leggings&gt;Pants</td>\n",
       "      <td>Pants</td>\n",
       "      <td>9</td>\n",
       "    </tr>\n",
       "    <tr>\n",
       "      <th>9</th>\n",
       "      <td>Shopee&gt;Women Clothes&gt;Shorts&gt;Shorts</td>\n",
       "      <td>Shorts</td>\n",
       "      <td>1</td>\n",
       "    </tr>\n",
       "    <tr>\n",
       "      <th>10</th>\n",
       "      <td>Shopee&gt;Women Clothes&gt;Skirts</td>\n",
       "      <td>Skirts</td>\n",
       "      <td>42</td>\n",
       "    </tr>\n",
       "    <tr>\n",
       "      <th>11</th>\n",
       "      <td>Shopee&gt;Women Clothes&gt;Sweaters &amp; Cardigans</td>\n",
       "      <td>Sweaters &amp; Cardigans</td>\n",
       "      <td>1</td>\n",
       "    </tr>\n",
       "    <tr>\n",
       "      <th>12</th>\n",
       "      <td>Shopee&gt;Women Clothes&gt;Tops&gt;Others</td>\n",
       "      <td>Others</td>\n",
       "      <td>21</td>\n",
       "    </tr>\n",
       "    <tr>\n",
       "      <th>13</th>\n",
       "      <td>Shopee&gt;Women Clothes&gt;Tops&gt;Shirts &amp; Blouses</td>\n",
       "      <td>Shirts &amp; Blouses</td>\n",
       "      <td>55</td>\n",
       "    </tr>\n",
       "    <tr>\n",
       "      <th>14</th>\n",
       "      <td>Shopee&gt;Women Clothes&gt;Tops&gt;T-shirts</td>\n",
       "      <td>T-shirts</td>\n",
       "      <td>2</td>\n",
       "    </tr>\n",
       "    <tr>\n",
       "      <th>15</th>\n",
       "      <td>Shopee&gt;Women Clothes&gt;Tops&gt;Tanks &amp; Camisoles</td>\n",
       "      <td>Tanks &amp; Camisoles</td>\n",
       "      <td>5</td>\n",
       "    </tr>\n",
       "    <tr>\n",
       "      <th>16</th>\n",
       "      <td>Shopee&gt;Women Clothes&gt;Tops&gt;Tube Tops</td>\n",
       "      <td>Tube Tops</td>\n",
       "      <td>1</td>\n",
       "    </tr>\n",
       "    <tr>\n",
       "      <th>17</th>\n",
       "      <td>Shopee&gt;Women Clothes&gt;Traditional Wear&gt;Tops</td>\n",
       "      <td>Tops</td>\n",
       "      <td>2</td>\n",
       "    </tr>\n",
       "  </tbody>\n",
       "</table>\n",
       "</div>"
      ],
      "text/plain": [
       "                                             Category              lowest cat  \\\n",
       "0              Shopee>Fashion Accessories>Hats & Caps             Hats & Caps   \n",
       "1                Shopee>Men Clothes>Pants/Suits>Pants                   Pants   \n",
       "2                      Shopee>Men Clothes>Tops>Shirts                  Shirts   \n",
       "3                        Shopee>Women Clothes>Dresses                 Dresses   \n",
       "4   Shopee>Women Clothes>Jackets, Coats & Vests>Bl...                 Blazers   \n",
       "5   Shopee>Women Clothes>Jackets, Coats & Vests>Vests                   Vests   \n",
       "6   Shopee>Women Clothes>Jackets, Coats & Vests>Wi...  Winter Jackets & Coats   \n",
       "7        Shopee>Women Clothes>Pants & Leggings>Others                  Others   \n",
       "8         Shopee>Women Clothes>Pants & Leggings>Pants                   Pants   \n",
       "9                  Shopee>Women Clothes>Shorts>Shorts                  Shorts   \n",
       "10                        Shopee>Women Clothes>Skirts                  Skirts   \n",
       "11          Shopee>Women Clothes>Sweaters & Cardigans    Sweaters & Cardigans   \n",
       "12                   Shopee>Women Clothes>Tops>Others                  Others   \n",
       "13         Shopee>Women Clothes>Tops>Shirts & Blouses        Shirts & Blouses   \n",
       "14                 Shopee>Women Clothes>Tops>T-shirts                T-shirts   \n",
       "15        Shopee>Women Clothes>Tops>Tanks & Camisoles       Tanks & Camisoles   \n",
       "16                Shopee>Women Clothes>Tops>Tube Tops               Tube Tops   \n",
       "17         Shopee>Women Clothes>Traditional Wear>Tops                    Tops   \n",
       "\n",
       "    prod num  \n",
       "0          1  \n",
       "1          1  \n",
       "2          1  \n",
       "3        279  \n",
       "4          5  \n",
       "5         27  \n",
       "6          5  \n",
       "7          1  \n",
       "8          9  \n",
       "9          1  \n",
       "10        42  \n",
       "11         1  \n",
       "12        21  \n",
       "13        55  \n",
       "14         2  \n",
       "15         5  \n",
       "16         1  \n",
       "17         2  "
      ]
     },
     "metadata": {},
     "output_type": "display_data"
    }
   ],
   "source": [
    "product_info_df['lowest_cat'] = product_info_df['Category'].str.split('>').str.get(-1)\n",
    "num_products_each_cat = product_info_df.groupby(['Category','lowest_cat']).size().reset_index()\n",
    "num_products_each_cat.columns = ['Category','lowest cat', 'prod num']\n",
    "display(num_products_each_cat)\n",
    "num_products_each_cat.to_excel(f'..\\\\data_for_analysis\\\\{brand}\\\\Lượng sản phẩm mỗi Category.xlsx',sheet_name='prods each cat', index=False, header=True)"
   ]
  },
  {
   "cell_type": "code",
   "execution_count": 8,
   "metadata": {},
   "outputs": [
    {
     "name": "stdout",
     "output_type": "stream",
     "text": [
      "848"
     ]
    }
   ],
   "source": [
    "import pandas as pd\n",
    "import os.path\n",
    "import time\n",
    "\n",
    "combined_csv_path = 'E:\\COLLEGE\\PROJECT\\designer-fashion-industry-analysis\\Crawling\\crawling_code\\combined_product_data.csv'\n",
    "\n",
    "def read_and_print_length():\n",
    "    check = pd.read_csv(combined_csv_path)\n",
    "    print(f'\\r{len(check)}', end='')\n",
    "\n",
    "elasped_time = 0\n",
    "while elasped_time <5:\n",
    "    read_and_print_length()\n",
    "    time.sleep(5)\n",
    "    elasped_time += 5"
   ]
  }
 ],
 "metadata": {
  "kernelspec": {
   "display_name": "Python 3",
   "language": "python",
   "name": "python3"
  },
  "language_info": {
   "codemirror_mode": {
    "name": "ipython",
    "version": 3
   },
   "file_extension": ".py",
   "mimetype": "text/x-python",
   "name": "python",
   "nbconvert_exporter": "python",
   "pygments_lexer": "ipython3",
   "version": "3.11.0"
  }
 },
 "nbformat": 4,
 "nbformat_minor": 2
}
