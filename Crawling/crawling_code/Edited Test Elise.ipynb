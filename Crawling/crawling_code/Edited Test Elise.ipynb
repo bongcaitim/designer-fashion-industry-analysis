{
 "cells": [
  {
   "cell_type": "markdown",
   "id": "902495cf",
   "metadata": {},
   "source": [
    "scan wa page\n",
    "--> request page's html\n",
    "--> save the necessary part of the page into a txt file\n",
    "--> scan through job links on that page\n",
    "--> get the nth link -> save to a list -> request -> save file -> process -> add to df\n",
    "--> k00th link -> save to csv\n",
    "\n"
   ]
  },
  {
   "cell_type": "markdown",
   "metadata": {},
   "source": [
    "Cạnh tranh gần nhất:\n",
    "\n",
    "https://pantio.vn/\n",
    "\n",
    "https://ivymoda.com/\n",
    "\n",
    "https://elise.vn/\n",
    "\n",
    "(1 - 3 năm)\n",
    "\n",
    "\n",
    "https://sixdo.vn/\n",
    "\n",
    "(lâu dài)\n"
   ]
  },
  {
   "cell_type": "code",
   "execution_count": 293,
   "id": "0e8249ab",
   "metadata": {},
   "outputs": [],
   "source": [
    "from selenium import webdriver\n",
    "from selenium.webdriver.common.by import By\n",
    "from selenium.webdriver.support.ui import WebDriverWait\n",
    "from selenium.webdriver.support import expected_conditions as EC\n",
    "from selenium.webdriver.common.keys import Keys\n",
    "from selenium.common.exceptions import NoSuchElementException\n",
    "import os\n",
    "import requests\n",
    "import time\n",
    "from datetime import datetime\n",
    "from IPython.display import clear_output\n",
    "import requests\n",
    "import os\n",
    "from bs4 import BeautifulSoup\n",
    "import pandas as pd\n",
    "import re\n",
    "from urllib.parse import urlparse, unquote\n",
    "import json\n",
    "import csv\n",
    "# os.environ['PATH'] += r\"E:\\Installers\\chromedriver_win32\\chromedriver.exe\""
   ]
  },
  {
   "cell_type": "code",
   "execution_count": 294,
   "metadata": {},
   "outputs": [
    {
     "data": {
      "text/plain": [
       "'e:\\\\COLLEGE\\\\PROJECT\\\\Thay Nhan\\\\INTERN\\\\Crawling\\\\crawling_code'"
      ]
     },
     "execution_count": 294,
     "metadata": {},
     "output_type": "execute_result"
    }
   ],
   "source": [
    "path = os.getcwd()\n",
    "path"
   ]
  },
  {
   "cell_type": "markdown",
   "metadata": {},
   "source": [
    "# Get numbered pages' url"
   ]
  },
  {
   "cell_type": "code",
   "execution_count": 295,
   "metadata": {},
   "outputs": [],
   "source": [
    "def make_num_pages_list(main_site_url, url_format, start_page, end_page):\n",
    "    all_pages_list = []\n",
    "    all_pages_list += [main_site_url]\n",
    "    \n",
    "    for i in range(start_page, end_page+1):\n",
    "        url = url_format.format(i)\n",
    "        all_pages_list.append(url)\n",
    "    \n",
    "    return  all_pages_list\n",
    "# all_pages_list = make_num_pages_list(main_site_url = 'https://elise.vn/thoi-trang-nu', \n",
    "#                                      url_format='https://elise.vn/thoi-trang-nu?pnpmls={}', \n",
    "#                                      start_page = 2, \n",
    "#                                      end_page = 10)\n",
    "   \n",
    "# for num_page in all_pages_list:\n",
    "#     print(num_page)"
   ]
  },
  {
   "cell_type": "markdown",
   "metadata": {},
   "source": [
    "# Tạo file csv database tổng nếu chưa tồn tại\n"
   ]
  },
  {
   "cell_type": "code",
   "execution_count": 296,
   "metadata": {},
   "outputs": [],
   "source": [
    "def create_db_csv(data_folder, domain):\n",
    "    if not os.path.exists(data_folder):\n",
    "        os.makedirs(data_folder)\n",
    "    \n",
    "    csv_file_path = os.path.join(data_folder, domain, f\"list_info_all.csv\")\n",
    "\n",
    "    if not os.path.exists(csv_file_path):\n",
    "        with open(csv_file_path, 'w', newline='') as csvfile:\n",
    "            writer = csv.writer(csvfile)\n",
    "            writer.writerow(['general_id', 'product_id', 'sku', 'url', 'product_name', 'price', 'size', 'color', 'description'])\n",
    "\n",
    "    return csv_file_path\n",
    "# # Example usage\n",
    "# data_folder = r\"E:\\COLLEGE\\PROJECT\\Thay Nhan\\INTERN\\Crawling\\data\"\n",
    "# domain = domain\n",
    "\n",
    "# csv_file_path = create_db_csv(data_folder, domain)\n",
    "# print(\"CSV file created at:\", csv_file_path)\n"
   ]
  },
  {
   "cell_type": "markdown",
   "metadata": {},
   "source": [
    "# Lưu HTML của numbered pages"
   ]
  },
  {
   "cell_type": "code",
   "execution_count": 297,
   "metadata": {},
   "outputs": [],
   "source": [
    "import requests\n",
    "from bs4 import BeautifulSoup\n",
    "import re\n",
    "import os\n",
    "from urllib.parse import urlparse\n",
    "from datetime import datetime\n",
    "\n",
    "def saving_numbered_pages(url, domain, attempt_folder_path):\n",
    "    html = requests.get(url).text\n",
    "    soup = BeautifulSoup(html, \"html.parser\")\n",
    "    \n",
    "    if domain == 'elise':\n",
    "        if '=' not in url:\n",
    "            pagenum = 'page1'\n",
    "        else:\n",
    "            # FOR ELISE\n",
    "            pagenum = url.split('=')[1]\n",
    "            pagenum = f'page{pagenum}'\n",
    "    else:\n",
    "        pagenum = 'not_elise_pagenum'\n",
    "        \n",
    "    current_datetime = datetime.now()\n",
    "    list_view_folder = os.path.join(attempt_folder_path, 'list view')\n",
    "    os.makedirs(list_view_folder, exist_ok=True)  \n",
    "    \n",
    "    i = 1\n",
    "    while True:\n",
    "        file_id = f\"{i:05d}\"\n",
    "        file_name = f\"[{current_datetime.strftime('%Y%m%d %H%M%S')}]_{domain}_{file_id}_{pagenum}.txt\"\n",
    "        file_path = os.path.join(list_view_folder, file_name)\n",
    "        if not os.path.exists(file_path):\n",
    "            break\n",
    "        i += 1\n",
    "    \n",
    "    # FOR ELISE\n",
    "    if domain == 'elise':\n",
    "        needed_div = soup.find('div', class_='info-content-wrapper')\n",
    "        if needed_div:\n",
    "            div_content = needed_div.prettify()\n",
    "            with open(file_path, 'w', encoding='utf-8') as file:\n",
    "                file.write(div_content)\n",
    "            \n",
    "    return file_path"
   ]
  },
  {
   "cell_type": "markdown",
   "metadata": {},
   "source": [
    "# Lưu HTML của detail"
   ]
  },
  {
   "cell_type": "code",
   "execution_count": 298,
   "metadata": {},
   "outputs": [],
   "source": [
    "import requests\n",
    "from bs4 import BeautifulSoup\n",
    "import re\n",
    "import os\n",
    "from urllib.parse import urlparse\n",
    "from datetime import datetime\n",
    "\n",
    "def saving_detail_html(soup, domain, detail_folder_path):\n",
    "    file_name = f\"html.txt\"\n",
    "    file_path = os.path.join(detail_folder_path, file_name)\n",
    "\n",
    "    \n",
    "    # FOR ELISE\n",
    "    if domain == 'elise':\n",
    "        needed_div = soup.find('div', class_='main')\n",
    "        if needed_div:\n",
    "            div_content = needed_div.prettify()\n",
    "            with open(file_path, 'w', encoding='utf-8') as file:\n",
    "                file.write(div_content)\n",
    "            \n",
    "    return file_path"
   ]
  },
  {
   "cell_type": "markdown",
   "metadata": {},
   "source": [
    "# Lấy path attempt folder"
   ]
  },
  {
   "cell_type": "code",
   "execution_count": 299,
   "metadata": {},
   "outputs": [],
   "source": [
    "## Tính lần cào\n",
    "def get_attempt(current_datetime):\n",
    "    hour = current_datetime.strftime(\"%H\") \n",
    "    minute = current_datetime.strftime(\"%M\")\n",
    "\n",
    "    attempt = f'attempt_at_{hour}{minute}'\n",
    "    return attempt\n",
    "\n",
    "def create_attempt_folder(data_folder, domain_folder, current_datetime, attempt):\n",
    "    \n",
    "    # Create subfolders based on year, month, and day\n",
    "    page_folder = os.path.join(data_folder, domain_folder)\n",
    "    year_folder = os.path.join(page_folder, str(current_datetime.year))\n",
    "    month_folder = os.path.join(year_folder, str(current_datetime.month))\n",
    "    day_folder = os.path.join(month_folder, str(current_datetime.day))\n",
    "    # lần cào\n",
    "    attempt_folder = os.path.join(day_folder, attempt)\n",
    "    \n",
    "    if not os.path.exists(attempt_folder):\n",
    "        os.makedirs(attempt_folder)\n",
    "    \n",
    "    return attempt_folder"
   ]
  },
  {
   "cell_type": "markdown",
   "metadata": {},
   "source": [
    "# Lưu tracking_file"
   ]
  },
  {
   "cell_type": "code",
   "execution_count": 300,
   "metadata": {},
   "outputs": [],
   "source": [
    "def save_tracking_file(attempt_folder_path, tracking_df, tracking_df_name):\n",
    "    file_path = os.path.join(attempt_folder_path, f'{tracking_df_name}.csv')\n",
    "    tracking_df.to_csv(file_path, index=False)\n",
    "    \n",
    "    return file_path"
   ]
  },
  {
   "cell_type": "markdown",
   "metadata": {},
   "source": [
    "# Xác định Detailview cần cào từ Listview"
   ]
  },
  {
   "cell_type": "code",
   "execution_count": 301,
   "metadata": {},
   "outputs": [],
   "source": [
    "def add_dup_ids(list_info_attempt, list_info_all):\n",
    "    # Lấy những ids trùng trong list_info_attempt và list_info_all\n",
    "    current_ids = list_info_attempt['general_id']\n",
    "    available_ids = list_info_all['general_id']\n",
    "    overlap_ids = set(current_ids) & set(available_ids)\n",
    "\n",
    "    # Giữ những dòng có id trùng nhau trong list_info_attempt và list_info_all để check khác nhau\n",
    "    filtered_attempt_df = list_info_attempt[list_info_attempt['general_id'].isin(overlap_ids)]\n",
    "    filtered_all_df = list_info_all[list_info_all['general_id'].isin(overlap_ids)]\n",
    "\n",
    "    # Có thể có TH trong list_info_all id đã bị trùng (do cào thêm vào)\n",
    "    # Chỉ lấy dòng chứa id trùng gần nhất trong list_info_all để đối chiếu với list_info_attempt\n",
    "    filtered_all_df_recent_ids = filtered_all_df.drop_duplicates(subset='general_id', keep='last')\n",
    "\n",
    "    # Tìm những dòng khác trong list_info_attempt\n",
    "    # Chỉ cần khác một attribute đã tính là khác\n",
    "    def check_for_differences(row):\n",
    "        return any(row[column + '_attempt'] != row[column + '_all'] for column in filtered_attempt_df.columns if column != 'general_id')\n",
    "\n",
    "    merged_df = filtered_attempt_df.merge(filtered_all_df_recent_ids, on='general_id', suffixes=('_attempt', '_all'))\n",
    "    different_info_ids = merged_df.apply(check_for_differences, axis=1)\n",
    "\n",
    "    # Trích xuất lấy phần những dòng khác với list_info_all trong list_info_attempt\n",
    "    different_info_ids = merged_df[different_info_ids]['general_id']\n",
    "    list_info_add = list_info_attempt[list_info_attempt['general_id'].isin(different_info_ids)]\n",
    "    return(list_info_add)\n",
    "\n",
    "\n",
    "def add_new_ids(list_info_attempt, list_info_all):\n",
    "    current_ids = list_info_attempt['general_id']\n",
    "    available_ids = list_info_all['general_id']\n",
    "\n",
    "    new_ids = set(current_ids) - set(available_ids)\n",
    "    list_info_add = list_info_attempt[list_info_attempt['general_id'].isin(new_ids)]\n",
    "    \n",
    "    return list_info_add\n",
    "\n",
    "def create_list_info_add(list_info_attempt, list_info_all):\n",
    "    new_ids_df = add_new_ids(list_info_attempt = list_info_attempt,\n",
    "                            list_info_all = list_info_all)    \n",
    "\n",
    "    dup_ids_df = add_dup_ids(list_info_attempt = list_info_attempt,\n",
    "                            list_info_all = list_info_all)\n",
    "    \n",
    "    list_info_add = pd.concat([new_ids_df,dup_ids_df], axis=0)\n",
    "    return list_info_add"
   ]
  },
  {
   "cell_type": "markdown",
   "metadata": {},
   "source": [
    "# Lọc Detailview cần cào bổ sung"
   ]
  },
  {
   "cell_type": "code",
   "execution_count": 302,
   "metadata": {},
   "outputs": [],
   "source": [
    "def get_ids_to_crawl_detail(attempt_folder_path):\n",
    "    ids_to_crawl_detail = []\n",
    "    # Tạo list đường dẫn đến các json files\n",
    "    json_files = []\n",
    "    for root, dirs, files in os.walk(attempt_folder_path):\n",
    "        for file in files:\n",
    "            if file.endswith('.json'):\n",
    "                if 'list view' not in root:\n",
    "                    json_files.append(os.path.join(root, file))\n",
    "                \n",
    "    ids_to_crawl_detail = list(list_info_add['general_id'])\n",
    "    \n",
    "    if len(json_files) == 0:\n",
    "        return ids_to_crawl_detail\n",
    "        \n",
    "    else:\n",
    "        # Gộp các json files thành df            \n",
    "        dataframes = []\n",
    "        \n",
    "        for file_path in json_files:\n",
    "            if os.path.getsize(file_path) == 0:\n",
    "                continue\n",
    "            \n",
    "            else:\n",
    "                detail_available_df = pd.read_json(file_path, encoding='utf-8')\n",
    "                dataframes.append(detail_available_df)\n",
    "                \n",
    "        if dataframes:\n",
    "            detail_available_df = pd.concat(dataframes, ignore_index=True)\n",
    "            ids_to_crawl_detail = list(list_info_add['general_id'][~list_info_add['general_id'].isin(list(detail_available_df['general_id']))])  \n",
    "            \n",
    "    return ids_to_crawl_detail"
   ]
  },
  {
   "cell_type": "markdown",
   "metadata": {},
   "source": [
    "# Tạo list_info_done"
   ]
  },
  {
   "cell_type": "code",
   "execution_count": 303,
   "metadata": {},
   "outputs": [],
   "source": [
    "def create_list_info_done(attempt_folder_path):\n",
    "    list_info_done = []\n",
    "    # Tạo list đường dẫn đến các json files\n",
    "    json_files = []\n",
    "    for root, dirs, files in os.walk(attempt_folder_path):\n",
    "        for file in files:\n",
    "            if file.endswith('.json'):\n",
    "                json_files.append(os.path.join(root, file))\n",
    "                \n",
    "\n",
    "    if len(json_files) == 0:\n",
    "        list_info_done = []\n",
    "        return None, None\n",
    "        \n",
    "    else:\n",
    "        # Gộp các json files thành df            \n",
    "        dataframes = []\n",
    "        \n",
    "        for file_path in json_files:\n",
    "            if os.path.getsize(file_path) == 0:\n",
    "                pass\n",
    "            \n",
    "            else:\n",
    "                detail_available_df = pd.read_json(file_path, encoding='utf-8')\n",
    "                dataframes.append(detail_available_df)\n",
    "                \n",
    "        if dataframes:\n",
    "            detail_available_df = pd.concat(dataframes, ignore_index=True)\n",
    "            list_info_done = list_info_add[list_info_add['general_id'].isin(list(detail_available_df['general_id']))]\n",
    "            list_info_done_path = save_tracking_file(attempt_folder_path, list_info_done, 'list_info_done')    \n",
    "            \n",
    "            return list_info_done, list_info_done_path"
   ]
  },
  {
   "cell_type": "markdown",
   "metadata": {},
   "source": [
    "# Gộp detail_info_attempt"
   ]
  },
  {
   "cell_type": "code",
   "execution_count": 304,
   "metadata": {},
   "outputs": [],
   "source": [
    "def create_detail_info_attempt(attempt_folder_path):\n",
    "    ids_to_crawl_detail = []\n",
    "    # Tạo list đường dẫn đến các json files\n",
    "    json_files = []\n",
    "    for root, dirs, files in os.walk(attempt_folder_path):\n",
    "        for file in files:\n",
    "            if file.endswith('.json'):\n",
    "                json_files.append(os.path.join(root, file))\n",
    "                \n",
    "\n",
    "    if len(json_files) == 0:\n",
    "        return None, None\n",
    "        \n",
    "    else:\n",
    "        # Gộp các json files thành df            \n",
    "        dataframes = []\n",
    "        detail_info_attempt = None\n",
    "        \n",
    "        for file_path in json_files:\n",
    "            if os.path.getsize(file_path) == 0:\n",
    "                pass\n",
    "            \n",
    "            else:\n",
    "                detail_info_attempt = pd.read_json(file_path, encoding='utf-8')\n",
    "                dataframes.append(detail_info_attempt)\n",
    "                \n",
    "        if dataframes:\n",
    "            detail_info_attempt = pd.concat(dataframes, ignore_index=True)\n",
    "            \n",
    "    detail_info_attempt_path = save_tracking_file(attempt_folder_path, detail_info_attempt, 'detail_info_attempt')\n",
    "    \n",
    "    return detail_info_attempt, detail_info_attempt_path"
   ]
  },
  {
   "cell_type": "markdown",
   "metadata": {},
   "source": [
    "# Tạo thư mục cho từng detail view"
   ]
  },
  {
   "cell_type": "code",
   "execution_count": 305,
   "metadata": {},
   "outputs": [],
   "source": [
    "import requests\n",
    "from bs4 import BeautifulSoup\n",
    "import re\n",
    "import os\n",
    "from urllib.parse import urlparse\n",
    "from datetime import datetime\n",
    "\n",
    "def get_next_subfolder(detail_view_folder, part_folder_size):\n",
    "    subfolder_id = part_folder_size  \n",
    "    while True:\n",
    "        subfolder_path = os.path.join(detail_view_folder, str(subfolder_id))\n",
    "        if not os.path.exists(subfolder_path) or len(os.listdir(subfolder_path)) < part_folder_size:\n",
    "            return subfolder_path\n",
    "        subfolder_id += part_folder_size\n",
    "\n",
    "def create_detail_folder(attempt_folder_path, product_id, product_name, part_folder_size):\n",
    "    # Get the current date and time\n",
    "    current_datetime = datetime.now()\n",
    "\n",
    "    detail_view_folder = os.path.join(attempt_folder_path, 'detail view')\n",
    "    \n",
    "    part_folder = get_next_subfolder(detail_view_folder, part_folder_size)\n",
    "    os.makedirs(part_folder, exist_ok=True)  \n",
    "    \n",
    "    \n",
    "    i = 1\n",
    "    while True:\n",
    "        file_id = f\"{i:05d}\"\n",
    "        folder_name = f\"[{current_datetime.strftime('%Y%m%d %H%M%S')}]_{product_id}_{file_id}_{product_name}\"\n",
    "        folder_path = os.path.join(part_folder, folder_name)\n",
    "        if not os.path.exists(folder_path):\n",
    "            os.makedirs(folder_path)\n",
    "            return folder_path\n",
    "        i += 1"
   ]
  },
  {
   "cell_type": "markdown",
   "metadata": {},
   "source": [
    "## Get all products' links"
   ]
  },
  {
   "cell_type": "code",
   "execution_count": 306,
   "metadata": {},
   "outputs": [],
   "source": [
    "import re\n",
    "def get_links(pagination_pages):\n",
    "    wanted_links = []\n",
    "    with open(pagination_pages, 'r') as f:\n",
    "#         lines = f.readlines()[:2]  # Read only the first two lines to test\n",
    "#         for line in lines:\n",
    "        for line in f:\n",
    "            page_url = line.strip()\n",
    "            response = requests.get(page_url)\n",
    "            html_content = response.content.decode()\n",
    "            soup = BeautifulSoup(html_content, \"html5lib\")\n",
    "\n",
    "            # FOR LATINA.VN\n",
    "            if 'latina' in page_url:\n",
    "                product_names = soup.find_all('div', class_='product-name')\n",
    "\n",
    "                for product in product_names:\n",
    "                    link = product.find('a', class_='link')['href']\n",
    "                    hyperlink = \"https://latina.vn\" + link\n",
    "                    wanted_links += [hyperlink]\n",
    "            elif 'elise' in page_url:\n",
    "                product\n",
    "                \n",
    "            print(f'Finished: {line}.')\n",
    "            clear_output(wait=True)\n",
    "    \n",
    "    match = re.search(r'numbered_pages_(.*?)\\.txt', pagination_pages)\n",
    "    if match:\n",
    "        domain = match.group(1)\n",
    "        file_name = f'wanted_links_{domain}.txt'\n",
    "        \n",
    "    file_path = os.path.join(os.path.dirname(path), 'crawling_materials')\n",
    "    file_wanted_links = os.path.join(file_path, file_name)\n",
    "    \n",
    "    with open(file_wanted_links, 'w', encoding='utf-8') as f:\n",
    "        for link in wanted_links:\n",
    "            f.write(f'{link}\\n')\n",
    "\n",
    "    return file_wanted_links"
   ]
  },
  {
   "cell_type": "code",
   "execution_count": 307,
   "id": "1d9e40e7",
   "metadata": {},
   "outputs": [],
   "source": [
    "def saving_detail_file(url, data_folder):\n",
    "    html = requests.get(url).text\n",
    "    soup = BeautifulSoup(html, \"html.parser\")\n",
    "    \n",
    "    # FOR LATINA\n",
    "    if 'latina' in url:\n",
    "        needed_div = soup.find('section', class_='product detail-main')\n",
    "    # FOR CAREER LINK\n",
    "    if 'careerlink' in url:\n",
    "        needed_div = soup.find('div', class_='card border-0 font-nunitosans px-4')\n",
    "        \n",
    "    # FOR VNWORKS\n",
    "    if 'vietnamworks' in url:\n",
    "        needed_div = soup.find('div', class_='page-foreground')\n",
    "        \n",
    "    # FOR HOTEL JOB\n",
    "    if 'hotel' in url:\n",
    "        needed_div = soup.find('section', class_='py-lg-4')\n",
    "        \n",
    "    if needed_div:\n",
    "        div_content = needed_div.prettify()\n",
    "        file_path = file_naming(url, data_folder)\n",
    "        with open(file_path, 'w', encoding='utf-8') as file:\n",
    "            file.write(div_content)\n",
    "        return file_path"
   ]
  },
  {
   "cell_type": "code",
   "execution_count": 308,
   "id": "2b659799",
   "metadata": {},
   "outputs": [],
   "source": [
    "import os\n",
    "from urllib.parse import urlparse, unquote\n",
    "from datetime import datetime\n",
    "\n",
    "\n",
    "def save_csv_file(df, batch_number, domain, data_folder=r\"E:\\test\"):\n",
    "    \n",
    "    current_datetime = datetime.now()\n",
    "    \n",
    "    # Create subfolders based on year, month, and day\n",
    "    year_folder = os.path.join(data_folder, str(current_datetime.year))\n",
    "    month_folder = os.path.join(year_folder, str(current_datetime.month))\n",
    "    day_folder = os.path.join(month_folder, str(current_datetime.day))\n",
    "    csv_folder = os.path.join(day_folder, domain)\n",
    "    \n",
    "    \n",
    "    os.makedirs(csv_folder, exist_ok=True)  \n",
    "\n",
    "    \n",
    "    i = 1\n",
    "    while True:\n",
    "        file_id = f\"{i:05d}\"\n",
    "        file_name = f\"[{current_datetime.strftime('%Y%m%d %H%M%S')}]_{file_id}_batch{batch_number}.csv\"\n",
    "        file_path = os.path.join(csv_folder, file_name)\n",
    "        if not os.path.exists(file_path):\n",
    "            df.to_csv(file_path, index=False)\n",
    "            return\n",
    "        i += 1"
   ]
  },
  {
   "cell_type": "code",
   "execution_count": 309,
   "id": "03177377",
   "metadata": {},
   "outputs": [],
   "source": [
    "def extract_and_save_ids(url, output_file='ids.txt'):\n",
    "    id = None\n",
    "\n",
    "    if 'latina' in url:\n",
    "        id = 'latin_' + url.split('-')[-1]\n",
    "    elif 'careerlink' in url:\n",
    "        id = 'careerlink_' + url.split('?')[0].split('/')[-1]\n",
    "    elif 'vietnamworks' in url:\n",
    "        id = 'vnworks_' + url.split('&')[-2].split('=')[-1]\n",
    "    elif 'hotel' in url:\n",
    "        id = 'hoteljob_' + url.split('/')[-1].split('-')[0]\n",
    "\n",
    "    if id is not None:\n",
    "        try:\n",
    "            with open(output_file, 'r') as file:\n",
    "                existing_ids = [line.strip() for line in file]\n",
    "                if id in existing_ids:\n",
    "                    return False\n",
    "                else:\n",
    "                    with open(output_file, 'a') as file:\n",
    "                        file.write(id + '\\n')\n",
    "                        return True\n",
    "        except FileNotFoundError:\n",
    "            pass\n",
    "\n"
   ]
  },
  {
   "cell_type": "markdown",
   "id": "39b3e203",
   "metadata": {},
   "source": [
    "# Cào"
   ]
  },
  {
   "cell_type": "markdown",
   "metadata": {},
   "source": [
    "## LIST VIEW"
   ]
  },
  {
   "cell_type": "code",
   "execution_count": 310,
   "metadata": {},
   "outputs": [],
   "source": [
    "def crawl_list_view_elise(url, domain):\n",
    "    product_info_list = []\n",
    "    html_content = requests.get(url).text\n",
    "    soup = BeautifulSoup(html_content, \"html5lib\")\n",
    "    \n",
    "    all_items = soup.find_all('div', class_='item-content-wrapper')\n",
    "    \n",
    "    for item in all_items:\n",
    "    # Product id\n",
    "        product_id = item.find('div', class_='price-box')['data-product-id']\n",
    "        \n",
    "    # General ID\n",
    "        general_id = f'{domain}_{product_id}'\n",
    "        \n",
    "    # Product SKU\n",
    "        product_url = item.find('a', class_='product-item-link')['href']\n",
    "        product_sku = product_url[-20:].replace('.html', '')\n",
    "        \n",
    "    # Product name\n",
    "        product_name = item.find('h5', class_='product-item-name').text.strip()\n",
    "        \n",
    "    # Product price\n",
    "        product_price = item.find('span', class_='price-wrapper').text.strip().replace('\\xa0', ' ')\n",
    "        \n",
    "        \n",
    "    # Product images\n",
    "        images = item.find_all('img', class_='product-image-photo')\n",
    "        img_dict = {}\n",
    "\n",
    "        image_order = 1\n",
    "        for img in images:   \n",
    "            img_name = img['alt']\n",
    "            img_order_name = f'{image_order:03d}_{img_name}'\n",
    "            \n",
    "            img_src = img['data-src']\n",
    "            img_dict[img_order_name] = img_src\n",
    "                    \n",
    "            image_order += 1\n",
    "        \n",
    "        \n",
    "        product_info = {\n",
    "        'general_id': general_id,\n",
    "        'product_id': product_id,\n",
    "        'sku': product_sku,\n",
    "        'url': product_url,\n",
    "        'product_name': product_name,\n",
    "        'price': product_price,\n",
    "        'image_list': img_dict\n",
    "        }\n",
    "        \n",
    "        product_info_list.append(product_info)\n",
    "        \n",
    "    product_info_list_df = pd.DataFrame(product_info_list)\n",
    "    return product_info_list_df\n",
    "        \n",
    "\n",
    "# crawl_list_view_elise(url='https://elise.vn/thoi-trang-nu?pnpmls=2', domain='elise')"
   ]
  },
  {
   "cell_type": "markdown",
   "metadata": {},
   "source": [
    "## DETAIL VIEW"
   ]
  },
  {
   "cell_type": "code",
   "execution_count": 311,
   "metadata": {},
   "outputs": [],
   "source": [
    "def crawl_detail_view_elise(soup, domain):\n",
    "    \n",
    "    # Product ID\n",
    "    product_id = soup.find('div', class_='price-box')['data-product-id'].strip()\n",
    "                \n",
    "    # General ID\n",
    "    general_id = f'{domain}_{product_id}'\n",
    "        \n",
    "    # SKU\n",
    "    sku = soup.find('span', itemprop='sku').text.strip()\n",
    "\n",
    "    # Name\n",
    "    product_name = soup.find('h1', class_='product-name').text.strip()\n",
    "\n",
    "    # Price\n",
    "    price = soup.find('span', class_='price-wrapper').text.strip().replace('\\xa0', ' ')\n",
    "\n",
    "    # Size\n",
    "    text_containing_sizes = soup.find('div', class_='product-options-wrapper').text\n",
    "    sizes = re.findall(r'\"label\":\"([A-Z]+)\",\"products\":\\[\"\\d+\"\\]},', text_containing_sizes)\n",
    "\n",
    "    # Colors\n",
    "    color = None\n",
    "\n",
    "    # Description\n",
    "    description = None\n",
    "    \n",
    "    # Images\n",
    "    gallery = soup.find('div', class_='gallery-list')\n",
    "    if gallery:\n",
    "        images = gallery.find_all('img', class_='img-responsive')\n",
    "    else:\n",
    "        images = soup.find_all('img', class_='img-responsive')\n",
    "    img_dict = {}\n",
    "\n",
    "    image_order = 1\n",
    "    for img in images:   \n",
    "        img_name = img['alt']\n",
    "        img_order_name = f'{image_order:03d}_{img_name}'\n",
    "        \n",
    "        img_src = img['src']\n",
    "        img_dict[img_order_name] = img_src\n",
    "                \n",
    "        image_order += 1\n",
    "\n",
    "    product_data = {\n",
    "        \"product_id\": product_id,\n",
    "        \"general_id\": general_id,\n",
    "        \"sku\": sku,\n",
    "        \"product_name\": product_name,\n",
    "        \"price\": price,\n",
    "        \"size\": sizes,\n",
    "        \"color\": color,\n",
    "        \"description\": description,\n",
    "        'image_list': img_dict\n",
    "    }\n",
    "\n",
    "    product_data_df = pd.DataFrame([product_data])\n",
    "    return product_data_df\n"
   ]
  },
  {
   "cell_type": "markdown",
   "metadata": {},
   "source": [
    "## Lưu ảnh"
   ]
  },
  {
   "cell_type": "code",
   "execution_count": 312,
   "metadata": {},
   "outputs": [],
   "source": [
    "from PIL import Image\n",
    "def save_images(img_dict, folder_path):\n",
    "    for img_name, img_src in img_dict.items():\n",
    "        request_img = Image.open(requests.get(img_src, stream=True).raw)\n",
    "        \n",
    "        img_file_path = os.path.join(folder_path, f'{img_name}.jpg')\n",
    "        request_img.save(img_file_path)"
   ]
  },
  {
   "cell_type": "markdown",
   "metadata": {},
   "source": [
    "## Lưu json"
   ]
  },
  {
   "cell_type": "code",
   "execution_count": 313,
   "metadata": {},
   "outputs": [],
   "source": [
    "\n",
    "from IPython.display import clear_output\n",
    "\n",
    "def crawl_json_images_html(items_to_crawl):\n",
    "    progress_count = 1\n",
    "    for index, row in items_to_crawl.iterrows():\n",
    "        url = row['url']\n",
    "        product_id = row['product_id']\n",
    "        product_name = row['product_name']\n",
    "        \n",
    "        \n",
    "        \n",
    "        # Folder to the detail\n",
    "        detail_folder_path = create_detail_folder(attempt_folder_path, product_id, product_name, part_folder_size)\n",
    "        \n",
    "        # Get the detail df\n",
    "        html = requests.get(url).text\n",
    "        soup = BeautifulSoup(html, \"html5lib\")\n",
    "        \n",
    "        item_df = crawl_detail_view_elise(soup, domain)\n",
    "        \n",
    "                \n",
    "        # Save to json_file\n",
    "        json_file_path = os.path.join(detail_folder_path, 'data.json')\n",
    "        with open(json_file_path, 'w', encoding='utf-8') as json_file:\n",
    "            item_df.to_json(json_file, orient='records', force_ascii=False, indent=4)\n",
    "\n",
    "\n",
    "        # Save images\n",
    "        img_dict = item_df['image_list'].iloc[0]\n",
    "        save_images(img_dict = img_dict, folder_path = detail_folder_path)\n",
    "        \n",
    "        \n",
    "        # Save html\n",
    "        saving_detail_html(soup, domain, detail_folder_path = detail_folder_path)\n",
    "\n",
    "        \n",
    "        \n",
    "        \n",
    "        # Print progress\n",
    "        progress = progress_count / len(items_to_crawl) * 100\n",
    "        progress_count += 1\n",
    "        clear_output(wait=True)\n",
    "        print(f\"Progress: {progress:.2f}%\")"
   ]
  },
  {
   "cell_type": "code",
   "execution_count": 314,
   "metadata": {},
   "outputs": [
    {
     "data": {
      "text/plain": [
       "'\\n    \\n        \\n\\n\\n    {\\n        \"[data-role=swatch-options]\": {\\n            \"Magento_Swatches/js/swatch-renderer\": {\\n                \"jsonConfig\": {\"attributes\":{\"178\":{\"id\":\"178\",\"code\":\"size\",\"label\":\"K\\\\u00edch c\\\\u1ee1\",\"options\":[{\"id\":\"5431\",\"label\":\"S\",\"products\":[\"56249\"]},{\"id\":\"5432\",\"label\":\"M\",\"products\":[\"56250\"]},{\"id\":\"5434\",\"label\":\"L\",\"products\":[\"56251\"]},{\"id\":\"5433\",\"label\":\"XL\",\"products\":[\"56252\"]}],\"position\":\"0\",\"type\":\"\"}},\"template\":\"<%- data.price %>\\\\u00a0VND\",\"currencyFormat\":\"%s\\\\u00a0VND\",\"optionPrices\":{\"56249\":{\"oldPrice\":{\"amount\":1098000},\"basePrice\":{\"amount\":1098000},\"finalPrice\":{\"amount\":1098000},\"tierPrices\":[],\"msrpPrice\":{\"amount\":null}},\"56250\":{\"oldPrice\":{\"amount\":1098000},\"basePrice\":{\"amount\":1098000},\"finalPrice\":{\"amount\":1098000},\"tierPrices\":[],\"msrpPrice\":{\"amount\":null}},\"56251\":{\"oldPrice\":{\"amount\":1098000},\"basePrice\":{\"amount\":1098000},\"finalPrice\":{\"amount\":1098000},\"tierPrices\":[],\"msrpPrice\":{\"amount\":null}},\"56252\":{\"oldPrice\":{\"amount\":1098000},\"basePrice\":{\"amount\":1098000},\"finalPrice\":{\"amount\":1098000},\"tierPrices\":[],\"msrpPrice\":{\"amount\":null}}},\"priceFormat\":{\"pattern\":\"%s\\\\u00a0VND\",\"precision\":0,\"requiredPrecision\":0,\"decimalSymbol\":\",\",\"groupSymbol\":\".\",\"groupLength\":3,\"integerRequired\":true},\"prices\":{\"oldPrice\":{\"amount\":1098000},\"basePrice\":{\"amount\":1098000},\"finalPrice\":{\"amount\":1098000}},\"productId\":\"56253\",\"chooseText\":\"Ch\\\\u1ecdn m\\\\u1ed9t t\\\\u00f9y ch\\\\u1ecdn...\",\"images\":[],\"index\":{\"56249\":{\"178\":\"5431\"},\"56250\":{\"178\":\"5432\"},\"56251\":{\"178\":\"5434\"},\"56252\":{\"178\":\"5433\"}},\"bundle_id\":\"56253\",\"currencySymbol\":\"\\\\u20ab\",\"considerTierPricesInFromToPrice\":null,\"hidePrice\":false,\"priceText\":\"Please Login or Register to buy this product!\",\"setOpenGraphUrl\":\"https:\\\\/\\\\/elise.vn\\\\/cpi\\\\/product\\\\/UpdateOpenGraph\\\\/\",\"attribute_prefix\":\"\",\"useCustomOptionsForVariations\":\"1\",\"loadOptionsUrl\":\"https:\\\\/\\\\/elise.vn\\\\/cpi\\\\/product\\\\/LoadOptions\\\\/\",\"configManageStock\":true,\"parentProductName\":\"SM CAM \\\\u0110\\\\u1ea4T C\\\\u1ed4 \\\\u0110\\\\u1ee8C TRANG TR\\\\u00cd C\\\\u00daC TAY\",\"x_matrix_axis\":{\"code\":null},\"y_matrix_axis\":{\"code\":null},\"customAttributes\":{\"parent\":{\"name\":{\"value\":\"SM CAM \\\\u0110\\\\u1ea4T C\\\\u1ed4 \\\\u0110\\\\u1ee8C TRANG TR\\\\u00cd C\\\\u00daC TAY\",\"class\":\".page-title .base\"},\"sku\":{\"value\":\"FF2308012TLWOOR\",\"class\":\".product-info-stock-sku .value\"},\"breadcrumbs\":{\"value\":\"SM CAM \\\\u0110\\\\u1ea4T C\\\\u1ed4 \\\\u0110\\\\u1ee8C TRANG TR\\\\u00cd C\\\\u00daC TAY\",\"class\":\".breadcrumbs .items .product\"}},\"56249\":{\"name\":{\"value\":\"SM CAM \\\\u0110\\\\u1ea4T C\\\\u1ed4 \\\\u0110\\\\u1ee8C TRANG TR\\\\u00cd C\\\\u00daC TAY-S\",\"class\":\".page-title .base\"},\"sku\":{\"value\":\"FF2308012TLWOORS\",\"class\":\".product-info-stock-sku .value\"},\"breadcrumbs\":{\"value\":\"SM CAM \\\\u0110\\\\u1ea4T C\\\\u1ed4 \\\\u0110\\\\u1ee8C TRANG TR\\\\u00cd C\\\\u00daC TAY-S\",\"class\":\".breadcrumbs .items .product\"},\"custom_1\":[],\"custom_2\":[],\"custom_3\":[]},\"56250\":{\"name\":{\"value\":\"SM CAM \\\\u0110\\\\u1ea4T C\\\\u1ed4 \\\\u0110\\\\u1ee8C TRANG TR\\\\u00cd C\\\\u00daC TAY-M\",\"class\":\".page-title .base\"},\"sku\":{\"value\":\"FF2308012TLWOORM\",\"class\":\".product-info-stock-sku .value\"},\"breadcrumbs\":{\"value\":\"SM CAM \\\\u0110\\\\u1ea4T C\\\\u1ed4 \\\\u0110\\\\u1ee8C TRANG TR\\\\u00cd C\\\\u00daC TAY-M\",\"class\":\".breadcrumbs .items .product\"},\"custom_1\":[],\"custom_2\":[],\"custom_3\":[]},\"56251\":{\"name\":{\"value\":\"SM CAM \\\\u0110\\\\u1ea4T C\\\\u1ed4 \\\\u0110\\\\u1ee8C TRANG TR\\\\u00cd C\\\\u00daC TAY-L\",\"class\":\".page-title .base\"},\"sku\":{\"value\":\"FF2308012TLWOORL\",\"class\":\".product-info-stock-sku .value\"},\"breadcrumbs\":{\"value\":\"SM CAM \\\\u0110\\\\u1ea4T C\\\\u1ed4 \\\\u0110\\\\u1ee8C TRANG TR\\\\u00cd C\\\\u00daC TAY-L\",\"class\":\".breadcrumbs .items .product\"},\"custom_1\":[],\"custom_2\":[],\"custom_3\":[]},\"56252\":{\"name\":{\"value\":\"SM CAM \\\\u0110\\\\u1ea4T C\\\\u1ed4 \\\\u0110\\\\u1ee8C TRANG TR\\\\u00cd C\\\\u00daC TAY-XL\",\"class\":\".page-title .base\"},\"sku\":{\"value\":\"FF2308012TLWOORXL\",\"class\":\".product-info-stock-sku .value\"},\"breadcrumbs\":{\"value\":\"SM CAM \\\\u0110\\\\u1ea4T C\\\\u1ed4 \\\\u0110\\\\u1ee8C TRANG TR\\\\u00cd C\\\\u00daC TAY-XL\",\"class\":\".breadcrumbs .items .product\"},\"custom_1\":[],\"custom_2\":[],\"custom_3\":[]}},\"urls\":{\"parent\":\"https:\\\\/\\\\/elise.vn\\\\/ff2308012tlwoor.html\",\"56249\":\"\",\"56250\":\"\",\"56251\":\"\",\"56252\":\"\"},\"deliveryDate\":{\"parent\":[],\"block\":null},\"stockQty\":{\"56249\":\"52.0000\",\"56250\":\"125.0000\",\"56251\":\"102.0000\",\"56252\":\"55.0000\"}},\\n                \"jsonSwatchConfig\": {\"178\":{\"5431\":{\"type\":\"0\",\"value\":\"S\",\"label\":\"S\"},\"5432\":{\"type\":\"0\",\"value\":\"M\",\"label\":\"M\"},\"5434\":{\"type\":\"0\",\"value\":\"L\",\"label\":\"L\"},\"5433\":{\"type\":\"0\",\"value\":\"XL\",\"label\":\"XL\"},\"additional_data\":\"{\\\\\"swatch_input_type\\\\\":\\\\\"text\\\\\",\\\\\"update_product_preview_image\\\\\":\\\\\"0\\\\\",\\\\\"use_product_image_for_swatch\\\\\":0}\"}},\\n                \"mediaCallback\": \"https\\\\u003A\\\\u002F\\\\u002Felise.vn\\\\u002Fswatches\\\\u002Fajax\\\\u002Fmedia\\\\u002F\",\\n                \"gallerySwitchStrategy\": \"replace\",\\n                \"jsonSwatchImageSizeConfig\": {\"swatchImage\":{\"width\":30,\"height\":20},\"swatchThumb\":{\"height\":90,\"width\":110}},\\n                \"showTooltip\": 1            }\\n        },\\n        \"*\" : {\\n            \"Magento_Swatches/js/catalog-add-to-cart\": {}\\n        }\\n    }\\n\\n\\n\\nrequire([\\n    \\'jquery\\',\\n    \\'jquery-ui-modules/datepicker\\'\\n], function($){\\n\\n//<![CDATA[\\n    $.extend(true, $, {\\n        calendarConfig: {\\n            dayNames: [\"Ch\\\\u1ee7 Nh\\\\u1eadt\",\"Th\\\\u1ee9 Hai\",\"Th\\\\u1ee9 Ba\",\"Th\\\\u1ee9 T\\\\u01b0\",\"Th\\\\u1ee9 N\\\\u0103m\",\"Th\\\\u1ee9 S\\\\u00e1u\",\"Th\\\\u1ee9 B\\\\u1ea3y\"],\\n            dayNamesMin: [\"CN\",\"Th 2\",\"Th 3\",\"Th 4\",\"Th 5\",\"Th 6\",\"Th 7\"],\\n            monthNames: [\"th\\\\u00e1ng 1\",\"th\\\\u00e1ng 2\",\"th\\\\u00e1ng 3\",\"th\\\\u00e1ng 4\",\"th\\\\u00e1ng 5\",\"th\\\\u00e1ng 6\",\"th\\\\u00e1ng 7\",\"th\\\\u00e1ng 8\",\"th\\\\u00e1ng 9\",\"th\\\\u00e1ng 10\",\"th\\\\u00e1ng 11\",\"th\\\\u00e1ng 12\"],\\n            monthNamesShort: [\"thg 1\",\"thg 2\",\"thg 3\",\"thg 4\",\"thg 5\",\"thg 6\",\"thg 7\",\"thg 8\",\"thg 9\",\"thg 10\",\"thg 11\",\"thg 12\"],\\n            infoTitle: \"V\\\\u00EA\\\\u0300\\\\u0020li\\\\u0323ch\",\\n            firstDay: 0,\\n            closeText: \"\\\\u0110\\\\u00F3ng\",\\n            currentText: \"\\\\u0110\\\\u00EA\\\\u0301n\\\\u0020nga\\\\u0300y\\\\u0020h\\\\u00F4m\\\\u0020nay\",\\n            prevText: \"Tr\\\\u01B0\\\\u1EDBc\",\\n            nextText: \"Ti\\\\u1EBFp\\\\u0020theo\",\\n            weekHeader: \"WK\",\\n            timeText: \"Th\\\\u1EDDi\\\\u0020Gian\",\\n            hourText: \"Gi\\\\u01A1\\\\u0300\",\\n            minuteText: \"Phu\\\\u0301t\",\\n            dateFormat: $.datepicker.RFC_2822,\\n            showOn: \"button\",\\n            showAnim: \"\",\\n            changeMonth: true,\\n            changeYear: true,\\n            buttonImageOnly: null,\\n            buttonImage: null,\\n            showButtonPanel: true,\\n            showWeek: true,\\n            timeFormat: \\'\\',\\n            showTime: false,\\n            showHour: false,\\n            showMinute: false\\n        }\\n    });\\n\\n    enUS = {\"m\":{\"wide\":[\"January\",\"February\",\"March\",\"April\",\"May\",\"June\",\"July\",\"August\",\"September\",\"October\",\"November\",\"December\"],\"abbr\":[\"Jan\",\"Feb\",\"Mar\",\"Apr\",\"May\",\"Jun\",\"Jul\",\"Aug\",\"Sep\",\"Oct\",\"Nov\",\"Dec\"]}}; // en_US locale reference\\n//]]>\\n\\n});\\n\\n\\n    \\n'"
      ]
     },
     "execution_count": 314,
     "metadata": {},
     "output_type": "execute_result"
    }
   ],
   "source": [
    "url = 'https://elise.vn/ff2308012tlwoor.html'\n",
    "html = requests.get(url).text\n",
    "soup = BeautifulSoup(html, \"html5lib\")\n",
    "soup.find('div', class_='product-options-wrapper').text"
   ]
  },
  {
   "cell_type": "code",
   "execution_count": 315,
   "metadata": {},
   "outputs": [],
   "source": [
    "soup.find('div', class_='swatch-option')"
   ]
  },
  {
   "cell_type": "code",
   "execution_count": 316,
   "metadata": {},
   "outputs": [
    {
     "name": "stdout",
     "output_type": "stream",
     "text": [
      "2024-03-05 09:09:39.573669\n"
     ]
    }
   ],
   "source": [
    "print(datetime.now())"
   ]
  },
  {
   "cell_type": "markdown",
   "metadata": {},
   "source": [
    "# Tạo list_info_attempt"
   ]
  },
  {
   "cell_type": "code",
   "execution_count": 317,
   "metadata": {},
   "outputs": [],
   "source": [
    "def create_list_info_attempt_html_json(all_pages_list, domain, attempt_folder_path):\n",
    "    list_info_attempt = pd.DataFrame()  # Initialize an empty DataFrame\n",
    "    \n",
    "    # Cho tính progress\n",
    "    overall_sum = len(all_pages_list)\n",
    "    overall_count = 1\n",
    "\n",
    "    # Scan qua các dòng link đến từng trang đánh số\n",
    "    for page_url in all_pages_list:\n",
    "        ## LƯU HTML của từng trang đánh số\n",
    "        numbered_page_path = saving_numbered_pages(url=page_url, domain=domain, attempt_folder_path=attempt_folder_path)\n",
    "        \n",
    "        ## CÀO LIST\n",
    "        product_info = crawl_list_view_elise(url=page_url, domain=domain)\n",
    "        \n",
    "        # Append the DataFrame returned by crawl_list_view_elise to list_info_attempt\n",
    "        list_info_attempt = list_info_attempt.append(product_info, ignore_index=True)\n",
    "        \n",
    "        \n",
    "        # LƯU JSON CHO TỪNG TRANG ĐÁNH SỐ\n",
    "        list_view_folder = os.path.join(attempt_folder_path, 'list view')\n",
    "        json_file_path = os.path.join(list_view_folder, f'page_{overall_count}.json')\n",
    "        with open(json_file_path, 'w', encoding='utf-8') as json_file:\n",
    "            product_info.to_json(json_file, orient='records', force_ascii=False, indent=4)\n",
    "        \n",
    "        ## TIẾN ĐỘ CHUNG\n",
    "        overall_progress = round((overall_count / overall_sum) * 100, 2)\n",
    "        print(f'Overall progress: {overall_progress}%')\n",
    "\n",
    "        ## TIẾN ĐỘ CHUNG        \n",
    "        overall_count += 1\n",
    "        clear_output(wait=True)\n",
    "        \n",
    "        # if len(main_database) == 0:\n",
    "        #     df = pd.DataFrame(attempt_data)\n",
    "        #     df.to_csv(main_database_path, mode='a', index=False, header=False)\n",
    "\n",
    "    return list_info_attempt\n"
   ]
  },
  {
   "cell_type": "markdown",
   "id": "f4e81028",
   "metadata": {},
   "source": [
    "# Main"
   ]
  },
  {
   "cell_type": "markdown",
   "metadata": {},
   "source": [
    "## Beginning"
   ]
  },
  {
   "cell_type": "code",
   "execution_count": 328,
   "metadata": {},
   "outputs": [],
   "source": [
    "main_site_url = 'https://elise.vn/thoi-trang-nu'\n",
    "if 'elise' in main_site_url:\n",
    "    all_pages_list = make_num_pages_list(main_site_url = 'https://elise.vn/thoi-trang-nu', \n",
    "                                     url_format='https://elise.vn/thoi-trang-nu?pnpmls={}', \n",
    "                                     start_page = 2, \n",
    "                                     end_page = 3)\n",
    "    domain = urlparse(main_site_url).netloc.split('.')[0]\n",
    "    \n",
    "\n",
    "    \n",
    "# Folder chứa data\n",
    "data_folder = r'E:\\COLLEGE\\PROJECT\\Thay Nhan\\INTERN\\Crawling\\data'\n",
    "# Folder cho website\n",
    "domain_folder = os.path.join(data_folder, domain)\n",
    "if not os.path.exists(domain_folder):\n",
    "    os.makedirs(domain_folder)\n",
    "\n",
    "part_folder_size = 300"
   ]
  },
  {
   "cell_type": "markdown",
   "metadata": {},
   "source": [
    "# Cào list view\n",
    "## Tạo list_info_attempt\n",
    "## Lưu json, html cho từng trang đánh số"
   ]
  },
  {
   "cell_type": "code",
   "execution_count": 329,
   "metadata": {},
   "outputs": [
    {
     "name": "stdout",
     "output_type": "stream",
     "text": [
      "Overall progress: 100.0%\n"
     ]
    },
    {
     "name": "stderr",
     "output_type": "stream",
     "text": [
      "C:\\Users\\ADMIN\\AppData\\Local\\Temp\\ipykernel_16456\\2100933006.py:17: FutureWarning: The frame.append method is deprecated and will be removed from pandas in a future version. Use pandas.concat instead.\n",
      "  list_info_attempt = list_info_attempt.append(product_info, ignore_index=True)\n"
     ]
    }
   ],
   "source": [
    "current_datetime = datetime.now()\n",
    "attempt = get_attempt(current_datetime)\n",
    "attempt_folder_path = create_attempt_folder(data_folder, domain_folder, current_datetime, attempt)\n",
    "\n",
    "list_info_attempt = create_list_info_attempt_html_json(all_pages_list, domain, attempt_folder_path)"
   ]
  },
  {
   "cell_type": "code",
   "execution_count": 330,
   "metadata": {},
   "outputs": [
    {
     "data": {
      "text/html": [
       "<div>\n",
       "<style scoped>\n",
       "    .dataframe tbody tr th:only-of-type {\n",
       "        vertical-align: middle;\n",
       "    }\n",
       "\n",
       "    .dataframe tbody tr th {\n",
       "        vertical-align: top;\n",
       "    }\n",
       "\n",
       "    .dataframe thead th {\n",
       "        text-align: right;\n",
       "    }\n",
       "</style>\n",
       "<table border=\"1\" class=\"dataframe\">\n",
       "  <thead>\n",
       "    <tr style=\"text-align: right;\">\n",
       "      <th></th>\n",
       "      <th>general_id</th>\n",
       "      <th>product_id</th>\n",
       "      <th>sku</th>\n",
       "      <th>url</th>\n",
       "      <th>product_name</th>\n",
       "      <th>price</th>\n",
       "      <th>image_list</th>\n",
       "    </tr>\n",
       "  </thead>\n",
       "  <tbody>\n",
       "    <tr>\n",
       "      <th>0</th>\n",
       "      <td>elise_56399</td>\n",
       "      <td>56399</td>\n",
       "      <td>ff2309062bklabk</td>\n",
       "      <td>https://elise.vn/ff2309062bklabk.html</td>\n",
       "      <td>JUPE LƯỚI LEN ĐEN KẺ Ô XẺ BÊN</td>\n",
       "      <td>1.098.000 VND</td>\n",
       "      <td>{'001_JUPE LƯỚI LEN ĐEN KẺ Ô XẺ BÊN': 'https:/...</td>\n",
       "    </tr>\n",
       "    <tr>\n",
       "      <th>1</th>\n",
       "      <td>elise_56394</td>\n",
       "      <td>56394</td>\n",
       "      <td>ff2306187tlwobk</td>\n",
       "      <td>https://elise.vn/ff2306187tlwobk.html</td>\n",
       "      <td>SM ĐEN CỔ ĐỨC NẮP TÚI</td>\n",
       "      <td>1.098.000 VND</td>\n",
       "      <td>{'001_SM ĐEN CỔ ĐỨC NẮP TÚI': 'https://elise.v...</td>\n",
       "    </tr>\n",
       "    <tr>\n",
       "      <th>2</th>\n",
       "      <td>elise_56389</td>\n",
       "      <td>56389</td>\n",
       "      <td>ff2309033bpdege</td>\n",
       "      <td>https://elise.vn/ff2309033bpdege.html</td>\n",
       "      <td>QUẦN JEANS XANH MATCHA ỐNG SUÔNG</td>\n",
       "      <td>998.000 VND</td>\n",
       "      <td>{'001_QUẦN JEANS XANH MATCHA ỐNG SUÔNG': 'http...</td>\n",
       "    </tr>\n",
       "    <tr>\n",
       "      <th>3</th>\n",
       "      <td>elise_56384</td>\n",
       "      <td>56384</td>\n",
       "      <td>ff2311088tvlacr</td>\n",
       "      <td>https://elise.vn/ff2311088tvlacr.html</td>\n",
       "      <td>GILE REN HOA KEM TÚI ỐP</td>\n",
       "      <td>1.298.000 VND</td>\n",
       "      <td>{'001_GILE REN HOA KEM TÚI ỐP': 'https://elise...</td>\n",
       "    </tr>\n",
       "    <tr>\n",
       "      <th>4</th>\n",
       "      <td>elise_56379</td>\n",
       "      <td>56379</td>\n",
       "      <td>fs2311092bkwokk</td>\n",
       "      <td>https://elise.vn/fs2311092bkwokk.html</td>\n",
       "      <td>CHÂN VÁY KAKI BE XÒE BOM GẤU</td>\n",
       "      <td>1.298.000 VND</td>\n",
       "      <td>{'001_CHÂN VÁY KAKI BE XÒE BOM GẤU': 'https://...</td>\n",
       "    </tr>\n",
       "    <tr>\n",
       "      <th>...</th>\n",
       "      <td>...</td>\n",
       "      <td>...</td>\n",
       "      <td>...</td>\n",
       "      <td>...</td>\n",
       "      <td>...</td>\n",
       "      <td>...</td>\n",
       "      <td>...</td>\n",
       "    </tr>\n",
       "    <tr>\n",
       "      <th>167</th>\n",
       "      <td>elise_52466</td>\n",
       "      <td>52466</td>\n",
       "      <td>fw2306366bpdebl</td>\n",
       "      <td>https://elise.vn/fw2306366bpdebl.html</td>\n",
       "      <td>QUẦN JEANS XANH ỐNG LOE GẤU TO</td>\n",
       "      <td>1.198.000 VND</td>\n",
       "      <td>{'001_QUẦN JEANS XANH ỐNG LOE GẤU TO': 'https:...</td>\n",
       "    </tr>\n",
       "    <tr>\n",
       "      <th>168</th>\n",
       "      <td>elise_52356</td>\n",
       "      <td>52356</td>\n",
       "      <td>fs2303250bkwocr</td>\n",
       "      <td>https://elise.vn/fs2303250bkwocr.html</td>\n",
       "      <td>JUPE KEM XẾP LY</td>\n",
       "      <td>1.298.000 VND</td>\n",
       "      <td>{'001_JUPE KEM XẾP LY': 'https://elise.vn/medi...</td>\n",
       "    </tr>\n",
       "    <tr>\n",
       "      <th>169</th>\n",
       "      <td>elise_52331</td>\n",
       "      <td>52331</td>\n",
       "      <td>fs2305028tswowh</td>\n",
       "      <td>https://elise.vn/fs2305028tswowh.html</td>\n",
       "      <td>SM CÁT NHĂN TRẮNG BẤU MÍ PHỐI REN PK</td>\n",
       "      <td>1.198.000 VND</td>\n",
       "      <td>{'001_SM CÁT NHĂN TRẮNG BẤU MÍ PHỐI REN PK': '...</td>\n",
       "    </tr>\n",
       "    <tr>\n",
       "      <th>170</th>\n",
       "      <td>elise_52286</td>\n",
       "      <td>52286</td>\n",
       "      <td>fs2306050bkwobd</td>\n",
       "      <td>https://elise.vn/fs2306050bkwobd.html</td>\n",
       "      <td>JUPE BÚT CHÌ ĐỎ ĐÔ CẠP HOA</td>\n",
       "      <td>1.198.000 VND</td>\n",
       "      <td>{'001_JUPE BÚT CHÌ ĐỎ ĐÔ CẠP HOA': 'https://el...</td>\n",
       "    </tr>\n",
       "    <tr>\n",
       "      <th>171</th>\n",
       "      <td>elise_52170</td>\n",
       "      <td>52170</td>\n",
       "      <td>fs2305113diwoge</td>\n",
       "      <td>https://elise.vn/fs2305113diwoge.html</td>\n",
       "      <td>ĐẦM TWEED MỎNG XANH LÁ TÚI ỐP</td>\n",
       "      <td>2.198.000 VND</td>\n",
       "      <td>{'001_ĐẦM TWEED MỎNG XANH LÁ TÚI ỐP': 'https:/...</td>\n",
       "    </tr>\n",
       "  </tbody>\n",
       "</table>\n",
       "<p>172 rows × 7 columns</p>\n",
       "</div>"
      ],
      "text/plain": [
       "      general_id product_id              sku  \\\n",
       "0    elise_56399      56399  ff2309062bklabk   \n",
       "1    elise_56394      56394  ff2306187tlwobk   \n",
       "2    elise_56389      56389  ff2309033bpdege   \n",
       "3    elise_56384      56384  ff2311088tvlacr   \n",
       "4    elise_56379      56379  fs2311092bkwokk   \n",
       "..           ...        ...              ...   \n",
       "167  elise_52466      52466  fw2306366bpdebl   \n",
       "168  elise_52356      52356  fs2303250bkwocr   \n",
       "169  elise_52331      52331  fs2305028tswowh   \n",
       "170  elise_52286      52286  fs2306050bkwobd   \n",
       "171  elise_52170      52170  fs2305113diwoge   \n",
       "\n",
       "                                       url  \\\n",
       "0    https://elise.vn/ff2309062bklabk.html   \n",
       "1    https://elise.vn/ff2306187tlwobk.html   \n",
       "2    https://elise.vn/ff2309033bpdege.html   \n",
       "3    https://elise.vn/ff2311088tvlacr.html   \n",
       "4    https://elise.vn/fs2311092bkwokk.html   \n",
       "..                                     ...   \n",
       "167  https://elise.vn/fw2306366bpdebl.html   \n",
       "168  https://elise.vn/fs2303250bkwocr.html   \n",
       "169  https://elise.vn/fs2305028tswowh.html   \n",
       "170  https://elise.vn/fs2306050bkwobd.html   \n",
       "171  https://elise.vn/fs2305113diwoge.html   \n",
       "\n",
       "                             product_name          price  \\\n",
       "0           JUPE LƯỚI LEN ĐEN KẺ Ô XẺ BÊN  1.098.000 VND   \n",
       "1                   SM ĐEN CỔ ĐỨC NẮP TÚI  1.098.000 VND   \n",
       "2        QUẦN JEANS XANH MATCHA ỐNG SUÔNG    998.000 VND   \n",
       "3                 GILE REN HOA KEM TÚI ỐP  1.298.000 VND   \n",
       "4            CHÂN VÁY KAKI BE XÒE BOM GẤU  1.298.000 VND   \n",
       "..                                    ...            ...   \n",
       "167        QUẦN JEANS XANH ỐNG LOE GẤU TO  1.198.000 VND   \n",
       "168                       JUPE KEM XẾP LY  1.298.000 VND   \n",
       "169  SM CÁT NHĂN TRẮNG BẤU MÍ PHỐI REN PK  1.198.000 VND   \n",
       "170            JUPE BÚT CHÌ ĐỎ ĐÔ CẠP HOA  1.198.000 VND   \n",
       "171         ĐẦM TWEED MỎNG XANH LÁ TÚI ỐP  2.198.000 VND   \n",
       "\n",
       "                                            image_list  \n",
       "0    {'001_JUPE LƯỚI LEN ĐEN KẺ Ô XẺ BÊN': 'https:/...  \n",
       "1    {'001_SM ĐEN CỔ ĐỨC NẮP TÚI': 'https://elise.v...  \n",
       "2    {'001_QUẦN JEANS XANH MATCHA ỐNG SUÔNG': 'http...  \n",
       "3    {'001_GILE REN HOA KEM TÚI ỐP': 'https://elise...  \n",
       "4    {'001_CHÂN VÁY KAKI BE XÒE BOM GẤU': 'https://...  \n",
       "..                                                 ...  \n",
       "167  {'001_QUẦN JEANS XANH ỐNG LOE GẤU TO': 'https:...  \n",
       "168  {'001_JUPE KEM XẾP LY': 'https://elise.vn/medi...  \n",
       "169  {'001_SM CÁT NHĂN TRẮNG BẤU MÍ PHỐI REN PK': '...  \n",
       "170  {'001_JUPE BÚT CHÌ ĐỎ ĐÔ CẠP HOA': 'https://el...  \n",
       "171  {'001_ĐẦM TWEED MỎNG XANH LÁ TÚI ỐP': 'https:/...  \n",
       "\n",
       "[172 rows x 7 columns]"
      ]
     },
     "execution_count": 330,
     "metadata": {},
     "output_type": "execute_result"
    }
   ],
   "source": [
    "list_info_attempt"
   ]
  },
  {
   "cell_type": "markdown",
   "metadata": {},
   "source": [
    "# Xác định Detailview cần cào từ Listview"
   ]
  },
  {
   "cell_type": "markdown",
   "metadata": {},
   "source": [
    "## Lọc mới, khác --> list_info_add"
   ]
  },
  {
   "attachments": {
    "image.png": {
     "image/png": "[encoded data removed]"
    }
   },
   "cell_type": "markdown",
   "metadata": {},
   "source": [
    "Lỗi khác kiểu dữ liệu\n",
    "![image.png](attachment:image.png)"
   ]
  },
  {
   "cell_type": "code",
   "execution_count": 331,
   "metadata": {},
   "outputs": [
    {
     "name": "stdout",
     "output_type": "stream",
     "text": [
      "Độ dài all: 172\n",
      "Độ dài attempt: 172\n",
      "Độ dài add: 52\n"
     ]
    }
   ],
   "source": [
    "list_info_all_path = os.path.join(data_folder, domain, f\"list_info_all.csv\")\n",
    "\n",
    "# Lưu list_info_attempt\n",
    "list_info_attempt_path = save_tracking_file(attempt_folder_path, list_info_attempt, 'list_info_attempt')\n",
    "list_info_attempt = pd.read_csv(list_info_attempt_path)\n",
    "\n",
    "# LẦN ĐẦU\n",
    "if not os.path.exists(list_info_all_path):    \n",
    "    # Cào hết\n",
    "    list_info_add = list_info_attempt\n",
    "    list_info_all = list_info_attempt\n",
    "    list_info_all.to_csv(list_info_all_path, index=False)\n",
    "    \n",
    "# CÀO LẠI\n",
    "else:\n",
    "    list_info_all = pd.read_csv(list_info_all_path)\n",
    "    list_info_add =  create_list_info_add(list_info_attempt, list_info_all) \n",
    "    \n",
    "    # Thêm vào db tổng   \n",
    "    list_info_all = pd.concat([list_info_all, list_info_add], axis=0)\n",
    "    list_info_all.to_csv(list_info_all_path, index=False)\n",
    "\n",
    "\n",
    "print(f\"Độ dài all: {len(list_info_all)}\")\n",
    "print(f\"Độ dài attempt: {len(list_info_attempt)}\")\n",
    "print(f\"Độ dài add: {len(list_info_add)}\")\n"
   ]
  },
  {
   "cell_type": "code",
   "execution_count": 332,
   "metadata": {},
   "outputs": [],
   "source": [
    "list_info_add_path = save_tracking_file(attempt_folder_path, list_info_add, 'list_info_add')"
   ]
  },
  {
   "cell_type": "markdown",
   "metadata": {},
   "source": [
    "## Cào ảnh từ Listview, chọn ảnh cần cào từ list_info_add"
   ]
  },
  {
   "cell_type": "code",
   "execution_count": 333,
   "metadata": {},
   "outputs": [],
   "source": [
    "import ast\n",
    "\n",
    "## Tạo folder list view\n",
    "list_view_folder = os.path.join(attempt_folder_path, 'list view')\n",
    "\n",
    "img_dict = {}\n",
    "\n",
    "for index, row in list_info_add.iterrows():\n",
    "    image_dict = row['image_list']\n",
    "    image_dict = ast.literal_eval(image_dict)\n",
    "    img_dict.update(image_dict)\n",
    "\n",
    "## Cào ảnh từ list\n",
    "save_images(img_dict = img_dict, \n",
    "            folder_path = list_view_folder)"
   ]
  },
  {
   "cell_type": "markdown",
   "metadata": {},
   "source": [
    "## Scan các Detailview đã cào của lần cào này\n",
    "**Đối chiếu với list_info_add.csv để lọc detail view cần cào bổ sung**\n",
    "\n",
    "Lần cào này đang cào detail thì lỗi --> cào lại tại đây\n",
    "### Cào"
   ]
  },
  {
   "cell_type": "code",
   "execution_count": 334,
   "metadata": {},
   "outputs": [
    {
     "name": "stdout",
     "output_type": "stream",
     "text": [
      "Progress: 100.00%\n",
      "Số file detail cần cào thêm cho lần cào này là 52\n"
     ]
    }
   ],
   "source": [
    "ids_to_crawl_detail = get_ids_to_crawl_detail(attempt_folder_path=attempt_folder_path)\n",
    "items_to_crawl = list_info_add[list_info_add['general_id'].isin(ids_to_crawl_detail)]\n",
    "\n",
    "# Cào\n",
    "crawl_json_images_html(items_to_crawl)\n",
    "print(f'Số file detail cần cào thêm cho lần cào này là {len(ids_to_crawl_detail)}')"
   ]
  },
  {
   "cell_type": "markdown",
   "metadata": {},
   "source": [
    "# Gộp detail_info_attempt"
   ]
  },
  {
   "cell_type": "code",
   "execution_count": 335,
   "metadata": {},
   "outputs": [
    {
     "name": "stdout",
     "output_type": "stream",
     "text": [
      "E:\\COLLEGE\\PROJECT\\Thay Nhan\\INTERN\\Crawling\\data\\elise\\2024\\3\\5\\attempt_at_0921\\detail_info_attempt.csv\n",
      "Số dòng detail_info_attempt 224\n"
     ]
    }
   ],
   "source": [
    "detail_info_attempt, detail_info_attempt_path = create_detail_info_attempt(attempt_folder_path)\n",
    "if detail_info_attempt is None or detail_info_attempt.empty:\n",
    "    print('Lần này detail_info_attempt không có detail nào.')\n",
    "else:\n",
    "    print(detail_info_attempt_path)\n",
    "    print(f\"Số dòng detail_info_attempt {len(detail_info_attempt)}\")"
   ]
  },
  {
   "cell_type": "markdown",
   "metadata": {},
   "source": [
    "# Tạo list_info_done"
   ]
  },
  {
   "cell_type": "code",
   "execution_count": 336,
   "metadata": {},
   "outputs": [
    {
     "name": "stdout",
     "output_type": "stream",
     "text": [
      "E:\\COLLEGE\\PROJECT\\Thay Nhan\\INTERN\\Crawling\\data\\elise\\2024\\3\\5\\attempt_at_0921\\list_info_done.csv\n",
      "Số dòng list_info_done 52\n"
     ]
    }
   ],
   "source": [
    "list_info_done, list_info_done_path = create_list_info_done(attempt_folder_path)\n",
    "if list_info_done is None or list_info_done.empty:\n",
    "    print('Lần này list_info_done không có detail nào.')\n",
    "else:\n",
    "    print(list_info_done_path)\n",
    "    print(f\"Số dòng list_info_done {len(list_info_done)}\")"
   ]
  }
 ],
 "metadata": {
  "kernelspec": {
   "display_name": "Python 3 (ipykernel)",
   "language": "python",
   "name": "python3"
  },
  "language_info": {
   "codemirror_mode": {
    "name": "ipython",
    "version": 3
   },
   "file_extension": ".py",
   "mimetype": "text/x-python",
   "name": "python",
   "nbconvert_exporter": "python",
   "pygments_lexer": "ipython3",
   "version": "3.10.9"
  }
 },
 "nbformat": 4,
 "nbformat_minor": 5
}
